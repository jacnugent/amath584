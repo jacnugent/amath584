{
 "cells": [
  {
   "cell_type": "markdown",
   "metadata": {},
   "source": [
    "# Draft for HW 5\n",
    "Progress:\n",
    "1. Eigenvalues and Power Iterations\n",
    "    * ~~(a) done~~\n",
    "    * (b) \n",
    "        * Need to compare as a function of iterations\n",
    "        * make plots\n",
    "    * (c)\n",
    "        * **Better way to find the initial guesses???**\n",
    "        * make plots to compare accuracy\n",
    "    * (d) \n",
    "        * **I THINK I NEED TO ORTHOGONALIZE FIRST?**\n",
    "        * compare as function\n",
    "        * make b plots\n",
    "        * make c plots\n",
    "\n",
    "\n",
    "2. Yale Faces\n",
    "    * CHECK CORRELATION MATRIX IS RIGHT\n",
    "    * (a) last plot? of the eigenfaces?\n",
    "    * (b) **haven't started**\n",
    "    * (c) **haven't started**\n",
    "    "
   ]
  },
  {
   "cell_type": "code",
   "execution_count": 2,
   "metadata": {},
   "outputs": [],
   "source": [
    "import cv2 \n",
    "import math\n",
    "import os\n",
    "\n",
    "import numpy as np\n",
    "import matplotlib.pyplot as plt\n",
    "import matplotlib.patches as mpatches\n",
    "\n",
    "from scipy import linalg\n",
    "import scipy\n"
   ]
  },
  {
   "cell_type": "markdown",
   "metadata": {},
   "source": [
    "Note that the data for the Yale faces datasets can be found on the course website in the \"Homework + Data + Text\" section: https://faculty.washington.edu/kutz/am584/am584.html. \n",
    "        "
   ]
  },
  {
   "cell_type": "code",
   "execution_count": 3,
   "metadata": {},
   "outputs": [],
   "source": [
    "main_dir = '/Users/jmnugent/Documents/__Year_3_2020-2021/AMATH_584-Numerical_Linear_Algebra/Homework/python/'\n",
    "\n",
    "crop_dir = main_dir + 'CroppedYale/'\n",
    "uncrop_dir = main_dir + 'yalefaces_uncropped/yalefaces/'\n",
    "save_dir = main_dir + 'amath584/hw5_iterative_methods/'\n"
   ]
  },
  {
   "cell_type": "markdown",
   "metadata": {},
   "source": [
    "## Define Functions"
   ]
  },
  {
   "cell_type": "code",
   "execution_count": 4,
   "metadata": {},
   "outputs": [],
   "source": [
    "def power_iteration(A, tol=1e-6, num_iter=None, stop=1e6):\n",
    "    \"\"\"\n",
    "    Performs power iteration on input matrix A (m x m) until the\n",
    "    gradient of the Rayleigh quotient is less than or equal to the\n",
    "    tol (default: 1e-6). If num_iter is given, will perform a set \n",
    "    number of iterations (and not necessarily go until the tolerance is reached).\n",
    "    \n",
    "    Assumes A is squre. The initial guess is a randomized vector of unit length.\n",
    "    \n",
    "    Returns the largest eigenvalue and its corresponding eigenvector after iteration is\n",
    "    complete. If num_iter=None, also returns how many iterations it took to\n",
    "    reach the tolerance.\n",
    "    \n",
    "    Stops after 'stop' iterations to prevent an infinite loop.\n",
    "    \"\"\"\n",
    "    # functions for the Rayleigh quotient and its gradient\n",
    "    r = lambda x: (x.T @ A @ x) / (x.T @ x)\n",
    "    gradr = lambda x: (2 / (x.T @ x)) * ((A @ x) - (r(x)*x))\n",
    "    \n",
    "    # get size m\n",
    "    m = A.shape[0]\n",
    "\n",
    "    # iterate some number of times\n",
    "    if num_iter is not None:\n",
    "        if type(num_iter) != int:\n",
    "            raise Exception('Invalid input for num_iter! Must be an integer # of iterations.')\n",
    "        else:\n",
    "            # initialize\n",
    "            lk = np.zeros(num_iter, dtype=complex)\n",
    "            vk = np.zeros((num_iter, m, 1), dtype=complex)\n",
    "            \n",
    "            v0 = np.random.randn(m, 1)\n",
    "            v0 = v0 / np.linalg.norm(v0)\n",
    "            vk[0, :] = v0\n",
    "            lk[0] = v0.T @ A @ v0\n",
    "            \n",
    "            # iterate\n",
    "            for k in range(num_iter-1):\n",
    "                w = A @ vk[k, :]\n",
    "                vk[k+1, :] = w / np.linalg.norm(w)\n",
    "                lk[k+1] = vk[k+1, :].T @ A @ vk[k+1, :]\n",
    "\n",
    "            return [lk[-1], vk[-1, :]]\n",
    "    \n",
    "    # iterate until you reach some value\n",
    "    else: \n",
    "        # initialize\n",
    "        n = 0\n",
    "        vk = np.random.randn(m, 1)\n",
    "        vk = vk / np.linalg.norm(vk)\n",
    "        lk = vk.T @ A @ vk\n",
    "        \n",
    "        # iterate\n",
    "        while np.any(np.abs(gradr(vk)) > tol):\n",
    "            if n > stop:\n",
    "                print('STOPPED AFTER ' + str(int(stop)) + ' ITERATIONS')\n",
    "                return [float(lk), vk, n]\n",
    "                break\n",
    "            n += 1\n",
    "            w = A @ vk\n",
    "            vk = w / np.linalg.norm(w)\n",
    "            lk = vk.T @ A @ vk\n",
    "        \n",
    "        return [lk[0][0], vk, n]\n",
    "    \n",
    "    "
   ]
  },
  {
   "cell_type": "code",
   "execution_count": 5,
   "metadata": {},
   "outputs": [],
   "source": [
    "def rq_iteration(A, v0, tol=1e-6, num_iter=None, stop=1e6):\n",
    "    \"\"\"\n",
    "    Performs Rayleigh Quotient iteration on input matrix A (m x m)\n",
    "    for some initial guess of eigenvector v0 (m x 1) until the difference\n",
    "    between lambda(k-1) and lambda(k) < tol. If num_iter is given, will\n",
    "    perform a set number of iterations (and not necessarily go until the\n",
    "    tolerance is reached).\n",
    "    \n",
    "    Assumes A is square.\n",
    "    \n",
    "    Returns the found eigenvalue and its corresponding eigenvector after iteration is\n",
    "    complete. If num_iter=None, also returns how many iterations it took to\n",
    "    reach the tolerance.\n",
    "    \n",
    "    Stops after 'stop' iterations to prevent an infinite loop.\n",
    "    \"\"\"\n",
    "    # functions for the Rayleigh quotient and its gradient\n",
    "    r = lambda x: (x.T @ A @ x) / (x.T @ x)\n",
    "    gradr = lambda x: (2 / (x.T @ x)) * ((A @ x) - (r(x)*x))\n",
    "    \n",
    "    # get size m\n",
    "    m = A.shape[0]\n",
    "    \n",
    "    # initialize arrays\n",
    "    eigs = np.zeros(m, dtype=complex)\n",
    "    vecs = np.zeros((m, m), dtype=complex)\n",
    "    \n",
    "    # iterate some number of times\n",
    "    if num_iter is not None:\n",
    "        if type(num_iter) != int:\n",
    "            raise Exception('Invalid input for num_iter! Must be an integer # of iterations.')\n",
    "        else:\n",
    "            # initialize\n",
    "            lk = np.zeros(num_iter, dtype=complex)\n",
    "            vk = np.zeros((num_iter, m, 1), dtype=complex)\n",
    "            vk[0, :] = v0\n",
    "            lk[0] = v0.T @ A @ v0\n",
    "            \n",
    "            # iterate\n",
    "            for k in range(num_iter-1):\n",
    "                w = np.linalg.solve((A - lk[k]*np.eye(m)), vk[k, :])\n",
    "                vk[k+1, :] = w / np.linalg.norm(w)\n",
    "                lk[k+1] = vk[k+1, :].T @ A @ vk[k+1, :]\n",
    "                \n",
    "            return [lk[-1], vk[-1, :]]\n",
    "            \n",
    "    # iterate until the difference is very small\n",
    "    else:\n",
    "        # initialize\n",
    "        l0 = v0.T @ A @ v0\n",
    "        \n",
    "        # first iteration\n",
    "        n = 1\n",
    "        w = np.linalg.solve((A - l0*np.eye(m)), v0)\n",
    "        vk = w / np.linalg.norm(w)\n",
    "        lk = vk.T @ A @ vk\n",
    "        \n",
    "        # iterate until lambdas are equal within the tolerance\n",
    "        lk_prev = l0\n",
    "        while np.abs(lk - lk_prev) > tol:\n",
    "            n += 1\n",
    "            if n > stop:\n",
    "                print('STOPPED AFTER ' + str(int(stop)) + ' ITERATIONS')\n",
    "                return [lk[0][0], vk, n]\n",
    "                break\n",
    "            lk_prev = lk\n",
    "            try:\n",
    "                w = np.linalg.solve((A - lk*np.eye(m)), vk)\n",
    "            except:\n",
    "                return [float(lk), vk, n]\n",
    "                break\n",
    "            vk = w / np.linalg.norm(w)\n",
    "            lk = vk.T @ A @ vk            \n",
    "\n",
    "        return [lk[0][0], vk, n]\n",
    "    "
   ]
  },
  {
   "cell_type": "code",
   "execution_count": 6,
   "metadata": {},
   "outputs": [],
   "source": [
    "def rand_unitvec(m):\n",
    "    \"\"\"Generate a random mx1 vector of unit length.\n",
    "    \"\"\"\n",
    "    v = np.random.randn(m, 1)\n",
    "    v1 = v / np.linalg.norm(v)\n",
    "    \n",
    "    return v1\n"
   ]
  },
  {
   "cell_type": "markdown",
   "metadata": {},
   "source": [
    "# 1. Eigenvalues and Power Iterations"
   ]
  },
  {
   "cell_type": "markdown",
   "metadata": {},
   "source": [
    "## part (a)\n",
    "Generate a random, symmetric matrix A which is mxm where m=10. Use the EIGS command (**scipy.linalg.eig**) to give you the _ground truth_ eigenvalues and eigenvectors\n",
    "\n",
    "Used suggestion from here to make the random matrix symmetric: https://stackoverflow.com/questions/10806790/generating-symmetric-matrices-in-numpy"
   ]
  },
  {
   "cell_type": "code",
   "execution_count": null,
   "metadata": {},
   "outputs": [],
   "source": [
    "# build the matrix\n",
    "m = 10\n",
    "A_nonsymm = np.random.randn(m, m)\n",
    "A = np.tril(A_nonsymm) + np.tril(A_nonsymm, -1).T\n",
    "\n",
    "# check symmetric\n",
    "print(np.all(A == A.T))\n",
    "\n",
    "# ground truth\n",
    "eigvals, eigvecs = scipy.linalg.eig(A)\n"
   ]
  },
  {
   "cell_type": "code",
   "execution_count": null,
   "metadata": {
    "scrolled": true
   },
   "outputs": [],
   "source": [
    "print(eigvals)"
   ]
  },
  {
   "cell_type": "markdown",
   "metadata": {},
   "source": [
    "## part (b)\n",
    "Find the largest eigenvalue with the **power iteration** method. Compare the accuracy of the method as a function of iterations."
   ]
  },
  {
   "cell_type": "code",
   "execution_count": null,
   "metadata": {},
   "outputs": [],
   "source": [
    "# function to find gradient of the rayleigh quotient\n",
    "r = lambda x: (x.T @ A @ x) / (x.T @ x)\n",
    "gradr = lambda x: (2 / (x.T @ x)) * ((A @ x) - (r(x)*x))\n",
    "   \n",
    "# to check for accuracy, this should be true\n",
    "tol = 1e-6\n",
    "is_close = lambda x: np.all(np.abs(gradr(x)) < tol)\n"
   ]
  },
  {
   "cell_type": "markdown",
   "metadata": {},
   "source": [
    "##### Test it on a few things!"
   ]
  },
  {
   "cell_type": "code",
   "execution_count": null,
   "metadata": {},
   "outputs": [],
   "source": [
    "lambda1, v1, n = power_iteration(A, tol=tol)\n",
    "print(lambda1)\n",
    "print(is_close(v1))\n",
    "print(n, 'iterations')\n",
    "\n",
    "lambda2, v2 = power_iteration(A, num_iter=100)\n",
    "print('\\n', lambda2)\n",
    "print(is_close(v2))\n",
    "print('100 iterations')\n",
    "\n",
    "lambda3, v3 = power_iteration(A, num_iter=10000)\n",
    "print('\\n', lambda3)\n",
    "print(is_close(v3))\n",
    "print('10,000 iterations')\n"
   ]
  },
  {
   "cell_type": "code",
   "execution_count": null,
   "metadata": {
    "scrolled": true
   },
   "outputs": [],
   "source": [
    "# the true largest eigenvalue\n",
    "print(np.max(np.abs(eigvals)))"
   ]
  },
  {
   "cell_type": "markdown",
   "metadata": {},
   "source": [
    "### Make plots"
   ]
  },
  {
   "cell_type": "markdown",
   "metadata": {},
   "source": [
    "\"Find the largest eigenvalue with the **power iteration** method. Compare the accuracy of the method as a function of iterations.\" (_What happens to v(k) as k gets big? What is v converging to?_)"
   ]
  },
  {
   "cell_type": "code",
   "execution_count": null,
   "metadata": {},
   "outputs": [],
   "source": [
    "# TODO"
   ]
  },
  {
   "cell_type": "code",
   "execution_count": null,
   "metadata": {},
   "outputs": [],
   "source": []
  },
  {
   "cell_type": "markdown",
   "metadata": {},
   "source": [
    "## part (c)\n",
    "\n",
    "Find all 10 eigenvalues by **Rayleigh Quotient** iteration and guessing initial \"eigenvectors.\" Compare the accuracy of the method as a function of iterations and discuss your initial guesses to find all eigenvalue/eigenvector pairs."
   ]
  },
  {
   "cell_type": "markdown",
   "metadata": {},
   "source": [
    "##### ...actually guess...!!"
   ]
  },
  {
   "cell_type": "code",
   "execution_count": null,
   "metadata": {},
   "outputs": [],
   "source": [
    "# ?????"
   ]
  },
  {
   "cell_type": "code",
   "execution_count": null,
   "metadata": {},
   "outputs": [],
   "source": []
  },
  {
   "cell_type": "code",
   "execution_count": null,
   "metadata": {},
   "outputs": [],
   "source": []
  },
  {
   "cell_type": "code",
   "execution_count": null,
   "metadata": {},
   "outputs": [],
   "source": []
  },
  {
   "cell_type": "code",
   "execution_count": null,
   "metadata": {},
   "outputs": [],
   "source": []
  },
  {
   "cell_type": "markdown",
   "metadata": {},
   "source": [
    "##### Loop to get all 10 unique values\n",
    "NOTE: this only works as written for symmetric matrices A because you know the eigenvalues are unique!"
   ]
  },
  {
   "cell_type": "code",
   "execution_count": null,
   "metadata": {},
   "outputs": [],
   "source": [
    "# initialize list of eigenvalues with an array because it\n",
    "# gets returned as a float\n",
    "eigs_rq = np.zeros(1)\n",
    "\n",
    "# perform one iteration to find an eigenvalue/eigenvector pair\n",
    "eigs_rq[0], vecs_rq, n = rq_iteration(A, rand_unitvec(m))\n",
    "print(n, 'iterations')\n",
    "\n",
    "# repeat the iteration until you find all 10 unique ones;\n",
    "# check for uniqueness to 6 decimal points (because tol=1e-6)\n",
    "while len(eigs_rq) < 10:\n",
    "    eig, vecs, nn = rq_iteration(A, rand_unitvec(m), tol=1e-6)\n",
    "    if np.round(eig, 6) not in np.round(eigs_rq, 6):\n",
    "        print(n, 'iterations')\n",
    "        eigs_rq = np.append(eigs_rq, eig)\n",
    "        vecs_rq = np.append(vecs_rq, vecs, axis=-1)\n",
    "        "
   ]
  },
  {
   "cell_type": "code",
   "execution_count": null,
   "metadata": {},
   "outputs": [],
   "source": [
    "# try with some others...\n",
    "e2, v2 = rq_iteration(A, rand_unitvec(m), num_iter=2)\n",
    "print(e2)\n",
    "\n",
    "e3, v3 = rq_iteration(A, rand_unitvec(m), num_iter=3)\n",
    "print(e3)\n",
    "\n",
    "e5, v5 = rq_iteration(A, rand_unitvec(m), num_iter=5)\n",
    "print(e5)\n"
   ]
  },
  {
   "cell_type": "code",
   "execution_count": null,
   "metadata": {},
   "outputs": [],
   "source": []
  },
  {
   "cell_type": "markdown",
   "metadata": {},
   "source": [
    "##### quick check that you got all 10!"
   ]
  },
  {
   "cell_type": "code",
   "execution_count": null,
   "metadata": {
    "scrolled": false
   },
   "outputs": [],
   "source": [
    "print('From Rayleigh Quotient iteration:')\n",
    "# print(sorted(eigs_rq, key=abs)[::-1])\n",
    "for x in eigs_rq: print(x)\n",
    "\n",
    "print('\\nGround truth:')\n",
    "for x in eigvals: print(x)\n"
   ]
  },
  {
   "cell_type": "markdown",
   "metadata": {},
   "source": [
    "### Plot..."
   ]
  },
  {
   "cell_type": "code",
   "execution_count": null,
   "metadata": {},
   "outputs": [],
   "source": [
    "# TODO"
   ]
  },
  {
   "cell_type": "markdown",
   "metadata": {},
   "source": [
    "## part (d)\n",
    "Repeat (b) and (c) with a **random matrix** that is not symmetric. Be sure to plot the eigenvalue in the complex plane."
   ]
  },
  {
   "cell_type": "code",
   "execution_count": null,
   "metadata": {},
   "outputs": [],
   "source": [
    "# build the matrix\n",
    "m = 10\n",
    "A_ns = np.random.randn(m, m)\n",
    "A_ns_list = [np.random.randn(m, m) + np.random.randn(m, m)*1j]*m\n",
    "\n",
    "# ground truth\n",
    "eigvals_ns, eigvecs_ns = scipy.linalg.eig(A_ns)\n",
    "eigvals_ns_list = [scipy.linalg.eig(A)[0] for A in A_ns_list]\n",
    "eigvecs_ns_list = [scipy.linalg.eig(A)[1] for A in A_ns_list]\n"
   ]
  },
  {
   "cell_type": "markdown",
   "metadata": {},
   "source": [
    "#### part (b), non-symmetric"
   ]
  },
  {
   "cell_type": "code",
   "execution_count": null,
   "metadata": {},
   "outputs": [],
   "source": [
    "# I think I need to do some kind of orthogonalization first??\n",
    "# check notes in AM"
   ]
  },
  {
   "cell_type": "code",
   "execution_count": null,
   "metadata": {
    "scrolled": false
   },
   "outputs": [],
   "source": [
    "%%time \n",
    "\n",
    "for a in A_ns_list:\n",
    "#     lambda_ns, v_ns, n_ns = power_iteration(a, tol=1e-6, stop=1e6)\n",
    "    lambda_ns, v_ns = power_iteration(a, tol=1e-6, stop=1e6, num_iter=100000)\n",
    "    print(lambda_ns)\n",
    "    print(is_close(v_ns))\n",
    "#     print(n_ns)\n",
    "    print('---')\n"
   ]
  },
  {
   "cell_type": "code",
   "execution_count": null,
   "metadata": {},
   "outputs": [],
   "source": [
    "# ...not sure what the difference here will be... just more iterations\n",
    "# needed? \n",
    "\n",
    "# do I need to make sure the initial guess is complex??\n"
   ]
  },
  {
   "cell_type": "markdown",
   "metadata": {},
   "source": [
    "#### part (c), non-symmetric"
   ]
  },
  {
   "cell_type": "code",
   "execution_count": null,
   "metadata": {},
   "outputs": [],
   "source": [
    "%%time\n",
    "# ACTUALLY GUESS for Rayleigh stuff! (not this)\n",
    "\n",
    "v0c = np.random.randn(m, 1) + np.random.randn(m, 1)*1j\n",
    "v0c = v0c / np.linalg.norm(v0c)\n",
    "\n",
    "# te, tv, tn = rq_iteration(A_ns, v0c, tol=1e-6, stop=1e6)\n",
    "# print(te)\n",
    "# print(tn)\n"
   ]
  },
  {
   "cell_type": "markdown",
   "metadata": {},
   "source": [
    "#### Try this for 10 different matrices"
   ]
  },
  {
   "cell_type": "code",
   "execution_count": null,
   "metadata": {},
   "outputs": [],
   "source": [
    "%%time\n",
    "\n",
    "for A_ns in A_ns_list:\n",
    "    te, tv, tn = rq_iteration(A_ns, v0c, tol=1e-6, stop=1e5)\n",
    "    print(np.round(te, 6) in np.round(A_ns, 6))\n",
    "    print(tn, 'iterations')\n",
    "    print('---')\n"
   ]
  },
  {
   "cell_type": "code",
   "execution_count": null,
   "metadata": {},
   "outputs": [],
   "source": [
    "# ALSO NOT SURE WHAT TO DO HERE!\n",
    "# Why is it not working?? None of these converge...\n"
   ]
  },
  {
   "cell_type": "code",
   "execution_count": null,
   "metadata": {},
   "outputs": [],
   "source": []
  },
  {
   "cell_type": "markdown",
   "metadata": {},
   "source": [
    "# 2. Yale Faces"
   ]
  },
  {
   "cell_type": "markdown",
   "metadata": {},
   "source": [
    "## Read in the data:"
   ]
  },
  {
   "cell_type": "markdown",
   "metadata": {},
   "source": [
    "### Cropped:"
   ]
  },
  {
   "cell_type": "code",
   "execution_count": 7,
   "metadata": {},
   "outputs": [],
   "source": [
    "# get a list of paths to each subfolder in CroppedYale\n",
    "paths = [crop_dir + dirname for dirname in os.listdir(crop_dir)\n",
    "         if os.path.isdir(os.path.join(crop_dir, dirname))]\n",
    "\n",
    "# initialize list to hold the averaged data matrices for each image\n",
    "n_img = len(paths)\n",
    "cropped_pics = [[]]*n_img\n",
    "cropped_avgs = [[]]*n_img\n",
    "\n",
    "for i in range(n_img):\n",
    "    # get the list of file names within the subfolder for that image\n",
    "    subfolder = paths[i] + '/'\n",
    "    imagenames = [subfolder + f for f in os.listdir(subfolder)\n",
    "                  if os.path.isfile(os.path.join(subfolder, f))]\n",
    "    \n",
    "    # make one list containing the data matrices for each (grayscale) image \n",
    "    cropped_pics[i] = [cv2.cvtColor(cv2.imread(x), cv2.COLOR_BGR2GRAY) for x in imagenames]\n",
    "\n",
    "    # averaged the data matrix for this image and add to the list\n",
    "    cropped_avgs[i] = np.mean(cropped_pics[i], axis=0)\n",
    "    "
   ]
  },
  {
   "cell_type": "code",
   "execution_count": 8,
   "metadata": {},
   "outputs": [
    {
     "name": "stdout",
     "output_type": "stream",
     "text": [
      "(32256, 2432)\n"
     ]
    }
   ],
   "source": [
    "# stack so each image is one column in the data matrix\n",
    "all_pics_c = [cropped_pics[i][j].flatten() for i in range(len(cropped_pics))\n",
    "              for j in range(len(cropped_pics[i]))]\n",
    "A_yf = np.transpose(np.asarray(all_pics_c))\n",
    "\n",
    "print(A_yf.shape)\n"
   ]
  },
  {
   "cell_type": "markdown",
   "metadata": {},
   "source": [
    "# TODO: need to make sure you're computing the correlation matrix correctly!"
   ]
  },
  {
   "cell_type": "code",
   "execution_count": 9,
   "metadata": {},
   "outputs": [
    {
     "name": "stdout",
     "output_type": "stream",
     "text": [
      "(2432, 2432)\n",
      "CPU times: user 2min 3s, sys: 1.85 s, total: 2min 4s\n",
      "Wall time: 2min 34s\n"
     ]
    }
   ],
   "source": [
    "%%time\n",
    "# get the square correlation matrix\n",
    "\n",
    "C_yf = A_yf.T @ A_yf # is this right? gives 2432 x 2432\n",
    "# C_yf2 = A_yf @ A_yf.T # this would give ~32k x ~32k, but takes WAY TOO LONG\n",
    "\n",
    "print(C_yf.shape)\n"
   ]
  },
  {
   "cell_type": "markdown",
   "metadata": {},
   "source": [
    "## part (a)\n",
    "**Power iterate** on the matrix of images to find the dominant eigenvector and eigenvalue. Compare to the leading order SVD mode."
   ]
  },
  {
   "cell_type": "code",
   "execution_count": 10,
   "metadata": {},
   "outputs": [
    {
     "name": "stdout",
     "output_type": "stream",
     "text": [
      "took 8 iterations\n",
      "CPU times: user 689 ms, sys: 353 ms, total: 1.04 s\n",
      "Wall time: 644 ms\n"
     ]
    }
   ],
   "source": [
    "%%time \n",
    "# iterate on the subsetted matrix\n",
    "\n",
    "l_data, v_data, n_data = power_iteration(C_yf)\n",
    "\n",
    "print('took', n_data, 'iterations')\n"
   ]
  },
  {
   "cell_type": "code",
   "execution_count": 11,
   "metadata": {},
   "outputs": [],
   "source": [
    "# function to find gradient of the rayleigh quotient\n",
    "r = lambda x: (x.T @ C_yf @ x) / (x.T @ x)\n",
    "gradr = lambda x: (2 / (x.T @ x)) * ((C_yf @ x) - (r(x)*x))\n",
    "   \n",
    "# to check for accuracy, this should be true\n",
    "tol = 1e-6\n",
    "is_close = lambda x: np.all(np.abs(gradr(x)) < tol)\n"
   ]
  },
  {
   "cell_type": "code",
   "execution_count": 12,
   "metadata": {},
   "outputs": [
    {
     "name": "stdout",
     "output_type": "stream",
     "text": [
      "309952.1007711205\n",
      "[[ 8.70022632e-09]\n",
      " [ 4.54820110e-08]\n",
      " [-1.16742740e-07]\n",
      " ...\n",
      " [ 1.79170456e-09]\n",
      " [-4.54747351e-09]\n",
      " [ 3.12575139e-08]]\n",
      "True\n"
     ]
    }
   ],
   "source": [
    "print(l_data)\n",
    "print(gradr(v_data))\n",
    "print(is_close(v_data))\n"
   ]
  },
  {
   "cell_type": "code",
   "execution_count": 13,
   "metadata": {},
   "outputs": [
    {
     "name": "stdout",
     "output_type": "stream",
     "text": [
      "CPU times: user 10.7 s, sys: 550 ms, total: 11.3 s\n",
      "Wall time: 7.62 s\n"
     ]
    }
   ],
   "source": [
    "%%time \n",
    "# perform (economy) SVD\n",
    "\n",
    "[Uh, Sh, VTh] = np.linalg.svd(C_yf, full_matrices=False) \n"
   ]
  },
  {
   "cell_type": "code",
   "execution_count": 14,
   "metadata": {
    "scrolled": true
   },
   "outputs": [
    {
     "name": "stdout",
     "output_type": "stream",
     "text": [
      "(2432, 2432) (2432, 2432) (2432,) (2432, 2432)\n"
     ]
    }
   ],
   "source": [
    "# check that the dimensions are correct\n",
    "\n",
    "print(C_yf.shape, Uh.shape, Sh.shape, VTh.shape)\n"
   ]
  },
  {
   "cell_type": "markdown",
   "metadata": {},
   "source": [
    "#### COMPARE VALUES"
   ]
  },
  {
   "cell_type": "code",
   "execution_count": 102,
   "metadata": {
    "scrolled": true
   },
   "outputs": [
    {
     "name": "stdout",
     "output_type": "stream",
     "text": [
      "309952.10077112046 309952.1007711205\n",
      "-5.820766091346741e-11\n"
     ]
    }
   ],
   "source": [
    "print(Sh[0], l_data)\n",
    "print(Sh[0] - l_data)\n"
   ]
  },
  {
   "cell_type": "markdown",
   "metadata": {},
   "source": [
    "#### PLOTS"
   ]
  },
  {
   "cell_type": "markdown",
   "metadata": {},
   "source": [
    "Plot the eigenvalue spectrum for the SVD and mark the eigenvalue you get from power iterations"
   ]
  },
  {
   "cell_type": "code",
   "execution_count": 58,
   "metadata": {},
   "outputs": [
    {
     "data": {
      "image/png": "[encoded data removed]",
      "text/plain": [
       "<Figure size 432x288 with 1 Axes>"
      ]
     },
     "metadata": {
      "needs_background": "light"
     },
     "output_type": "display_data"
    }
   ],
   "source": [
    "n_eigs = 20\n",
    "\n",
    "plt.scatter(1, l_data, color='C1', marker='*', s=150, label='Power Iteration (largest)')\n",
    "plt.plot(np.arange(1, n_eigs+1), Sh[:n_eigs], marker='.',color='C0', label='SVD (first {})'.format(n_eigs))\n",
    "\n",
    "plt.title('Eigenvalue Spectrum')\n",
    "plt.legend()\n",
    "plt.yscale('log')\n",
    "xmax = n_eigs + 0.5\n",
    "plt.xlim((0.5, xmax))\n",
    "plt.ylim((5e3, 1e6))\n",
    "\n",
    "plt.savefig(save_dir + '2a_eigenvalue_spectra.png', dpi=300, bbox_inches='tight')\n",
    "\n",
    "plt.show()\n"
   ]
  },
  {
   "cell_type": "markdown",
   "metadata": {},
   "source": [
    "Plot the difference in leading eigenvectors magnitude as a bar chart... with index on x axis and value of the vector on the y axis"
   ]
  },
  {
   "cell_type": "code",
   "execution_count": 98,
   "metadata": {},
   "outputs": [
    {
     "name": "stdout",
     "output_type": "stream",
     "text": [
      "True\n"
     ]
    }
   ],
   "source": [
    "# reshape first to match the shape of Uh[:, 0]\n",
    "v_data_rs = np.reshape(v_data, (len(v_data)))\n",
    "\n",
    "# This is true if the power iteration vector & SVD vector\n",
    "# have opposite signs\n",
    "print(np.all(np.sign(v_data_rs) == -np.sign(Uh[:, 0])))\n",
    "\n",
    "# find the difference in magnitude at each row\n",
    "vdiff = np.abs(v_data_rs) - np.abs(Uh[:, 0])\n"
   ]
  },
  {
   "cell_type": "code",
   "execution_count": 101,
   "metadata": {},
   "outputs": [
    {
     "data": {
      "image/png": "[encoded data removed]",
      "text/plain": [
       "<Figure size 720x288 with 1 Axes>"
      ]
     },
     "metadata": {
      "needs_background": "light"
     },
     "output_type": "display_data"
    }
   ],
   "source": [
    "# plot the difference\n",
    "\n",
    "fig, ax = plt.subplots(figsize=(10, 4))\n",
    "\n",
    "ax.bar(np.arange(1, len(vdiff)+1), vdiff)\n",
    "ax.set_title('Difference in largest eigenvector magnitude\\n(Power Iteration - SVD)')\n",
    "ax.set_ylim(-.5e-12, .5e-12)\n",
    "ax.set_xlim(-25, len(vdiff)+25)\n",
    "ax.set_xlabel('row index')\n",
    "\n",
    "plt.savefig(save_dir + '2a_diff_in_eigenvector_mag.png', dpi=300, bbox_inches='tight')\n",
    "\n",
    "plt.show()\n"
   ]
  },
  {
   "cell_type": "markdown",
   "metadata": {},
   "source": [
    "# TODO?\n",
    "\n",
    "Plot the first eigenfaces for power iteration & SVD, which are the first eigenvectors. Label each plot with the eigenvalue.\n"
   ]
  },
  {
   "cell_type": "code",
   "execution_count": null,
   "metadata": {
    "scrolled": false
   },
   "outputs": [],
   "source": [
    "# # get dimensions from the first pic\n",
    "# r, c = cropped_pics[0][0].shape\n",
    "\n",
    "# # get the eigenfaces (vectors) and reshape\n",
    "# eigenfaces = [np.reshape(Uh[:, i], (r, c)) for i in range(Uh.shape[1])]\n",
    "# eigenface_data = np.reshape(v_data, (r, c))\n",
    "\n",
    "# plot the face\n",
    "# fig, [axd, axs] = plt.subplots(1, 2, figsize=(12, 6))\n",
    "\n",
    "# axs.imshow(eigenfaces[0], cmap='gray', label='eigenvalue = {}'.format(Sh[0]))\n",
    "# axs.set_title('SVD on Data Matrix')\n",
    "# axs.axis('off')\n",
    "\n",
    "# axd.imshow(eigenface_data, cmap='grey', label='eigenvalue = {}'.format(l_data))\n",
    "# axd.set_title('Power Iterations on Correlation Matrix')\n",
    "# axd.axis('off')\n",
    "\n",
    "# plt.savefig(save_dir + '2a_eigenvectors_power_vs_svd.png', dpi=300, bbox_inches='tight')\n",
    "\n",
    "# plt.show()\n"
   ]
  },
  {
   "cell_type": "code",
   "execution_count": null,
   "metadata": {},
   "outputs": [],
   "source": []
  },
  {
   "cell_type": "markdown",
   "metadata": {},
   "source": [
    "## part (b)\n",
    "Use **randomized sampling** to reproduce the SVD matrices: U, $\\Sigma$, and V"
   ]
  },
  {
   "cell_type": "markdown",
   "metadata": {},
   "source": [
    "Recall the process:\n",
    "\n",
    "1. (stage A) Construct Q (m x k) - reduce from n to k columns\n",
    "\n",
    "    * take data & randomly sample column space (A Omega = Y)\n",
    "    * perform (economy) QR on Y to get Q\n",
    "    \n",
    "    \n",
    "2. (stage B) Construct B = Q^T A - take A and project into column space\n",
    "\n",
    "\n",
    "3. SVD on B matrix to get Utilde, Stilde, V*(tilde)\n",
    "\n",
    "\n",
    "4. Project backup:\n",
    "    * U = Q Utilde\n",
    "    * V = Q Vtilde\n",
    "    * Sigma = Q Stilde"
   ]
  },
  {
   "cell_type": "markdown",
   "metadata": {},
   "source": [
    "**NOTE**: coding parts are\n",
    "* 11/25, 25:00-30:00\n",
    "* 11/30, 9:50-41:26"
   ]
  },
  {
   "cell_type": "code",
   "execution_count": null,
   "metadata": {},
   "outputs": [],
   "source": []
  },
  {
   "cell_type": "code",
   "execution_count": null,
   "metadata": {},
   "outputs": [],
   "source": []
  },
  {
   "cell_type": "code",
   "execution_count": null,
   "metadata": {},
   "outputs": [],
   "source": []
  },
  {
   "cell_type": "markdown",
   "metadata": {},
   "source": [
    "## part (c)\n",
    "Copare the randomized modes to the true modes along with the singular value decay as a function of the number of randomized samples"
   ]
  },
  {
   "cell_type": "code",
   "execution_count": null,
   "metadata": {},
   "outputs": [],
   "source": []
  },
  {
   "cell_type": "code",
   "execution_count": null,
   "metadata": {},
   "outputs": [],
   "source": []
  }
 ],
 "metadata": {
  "kernelspec": {
   "display_name": "amath",
   "language": "python",
   "name": "amath"
  },
  "language_info": {
   "codemirror_mode": {
    "name": "ipython",
    "version": 3
   },
   "file_extension": ".py",
   "mimetype": "text/x-python",
   "name": "python",
   "nbconvert_exporter": "python",
   "pygments_lexer": "ipython3",
   "version": "3.8.3"
  }
 },
 "nbformat": 4,
 "nbformat_minor": 2
}
