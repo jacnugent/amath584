{
 "cells": [
  {
   "cell_type": "markdown",
   "metadata": {},
   "source": [
    "# Draft for HW 5"
   ]
  },
  {
   "cell_type": "code",
   "execution_count": 1,
   "metadata": {},
   "outputs": [],
   "source": [
    "import cv2 \n",
    "import math\n",
    "import os\n",
    "\n",
    "import numpy as np\n",
    "import matplotlib.pyplot as plt\n",
    "import matplotlib.patches as mpatches\n",
    "\n",
    "from scipy import linalg\n"
   ]
  },
  {
   "cell_type": "markdown",
   "metadata": {},
   "source": [
    "Note that the data for the Yale faces datasets can be found on the course website in the \"Homework + Data + Text\" section: https://faculty.washington.edu/kutz/am584/am584.html. \n",
    "        "
   ]
  },
  {
   "cell_type": "code",
   "execution_count": 2,
   "metadata": {},
   "outputs": [],
   "source": [
    "main_dir = '/Users/jmnugent/Documents/__Year_3_2020-2021/AMATH_584-Numerical_Linear_Algebra/Homework/python/'\n",
    "\n",
    "crop_dir = main_dir + 'CroppedYale/'\n",
    "uncrop_dir = main_dir + 'yalefaces_uncropped/yalefaces/'\n",
    "save_dir = main_dir + 'amath584/hw5_iterative_methods/'\n"
   ]
  },
  {
   "cell_type": "markdown",
   "metadata": {},
   "source": [
    "## Define Functions"
   ]
  },
  {
   "cell_type": "code",
   "execution_count": 3,
   "metadata": {},
   "outputs": [],
   "source": [
    "def power_iteration(A, tol=1e-6, num_iter=None, stop=1e6):\n",
    "    \"\"\"\n",
    "    Performs power iteration on input matrix A (m x m) until the\n",
    "    gradient of the Rayleigh quotient is less than or equal to the\n",
    "    tol (default: 1e-6). If num_iter is given, will perform a set \n",
    "    number of iterations (and not necessarily go until the tolerance is reached).\n",
    "    \n",
    "    Assumes A is squre. The initial guess is a randomized vector of unit length.\n",
    "    \n",
    "    Returns the largest eigenvalue and its corresponding eigenvector after iteration is\n",
    "    complete. If num_iter=None, also returns how many iterations it took to\n",
    "    reach the tolerance.\n",
    "    \n",
    "    Stops after 'stop' iterations to prevent an infinite loop.\n",
    "    \"\"\"\n",
    "    # functions for the Rayleigh quotient and its gradient\n",
    "    r = lambda x: (x.T @ A @ x) / (x.T @ x)\n",
    "    gradr = lambda x: (2 / (x.T @ x)) * ((A @ x) - (r(x)*x))\n",
    "    \n",
    "    # get size m\n",
    "    m = A.shape[0]\n",
    "\n",
    "    # iterate some number of times\n",
    "    if num_iter is not None:\n",
    "        if type(num_iter) != int:\n",
    "            raise Exception('Invalid input for num_iter! Must be an integer # of iterations.')\n",
    "        else:\n",
    "            # initialize\n",
    "            lk = np.zeros(num_iter)\n",
    "            vk = np.zeros((num_iter, m, 1))\n",
    "            \n",
    "            v0 = np.random.randn(m, 1)\n",
    "            v0 = v0 / np.linalg.norm(v0)\n",
    "            vk[0, :] = v0\n",
    "            lk[0] = v0.T @ A @ v0\n",
    "            \n",
    "            # iterate\n",
    "            for k in range(num_iter-1):\n",
    "                w = A @ vk[k, :]\n",
    "                vk[k+1, :] = w / np.linalg.norm(w)\n",
    "                lk[k+1] = vk[k+1, :].T @ A @ vk[k+1, :]\n",
    "\n",
    "            return [lk[-1], vk[-1, :]]\n",
    "    \n",
    "    # iterate until you reach some value\n",
    "    else: \n",
    "        # initialize\n",
    "        n = 0\n",
    "        vk = np.random.randn(m, 1)\n",
    "        vk = vk / np.linalg.norm(vk)\n",
    "        lk = vk.T @ A @ vk\n",
    "        \n",
    "        # iterate\n",
    "        while np.any(np.abs(gradr(vk)) > tol):\n",
    "            if n > stop:\n",
    "                print('STOPPED AFTER ' + str(int(stop)) + ' ITERATIONS')\n",
    "                return [float(lk), vk, n]\n",
    "                break\n",
    "            n += 1\n",
    "            w = A @ vk\n",
    "            vk = w / np.linalg.norm(w)\n",
    "            lk = vk.T @ A @ vk\n",
    "        \n",
    "        return [float(lk), vk, n]\n",
    "    \n",
    "    "
   ]
  },
  {
   "cell_type": "code",
   "execution_count": 4,
   "metadata": {},
   "outputs": [],
   "source": [
    "def rq_iteration(A, v0, tol=1e-6, num_iter=None, stop=1e6):\n",
    "    \"\"\"\n",
    "    Performs Rayleigh Quotient iteration on input matrix A (m x m)\n",
    "    for some initial guess of eigenvector v0 (m x 1) until the difference\n",
    "    between lambda(k-1) and lambda(k) < tol. If num_iter is given, will\n",
    "    perform a set number of iterations (and not necessarily go until the\n",
    "    tolerance is reached).\n",
    "    \n",
    "    Assumes A is square.\n",
    "    \n",
    "    Returns the found eigenvalue and its corresponding eigenvector after iteration is\n",
    "    complete. If num_iter=None, also returns how many iterations it took to\n",
    "    reach the tolerance.\n",
    "    \n",
    "    Stops after 'stop' iterations to prevent an infinite loop.\n",
    "    \"\"\"\n",
    "    # functions for the Rayleigh quotient and its gradient\n",
    "    r = lambda x: (x.T @ A @ x) / (x.T @ x)\n",
    "    gradr = lambda x: (2 / (x.T @ x)) * ((A @ x) - (r(x)*x))\n",
    "    \n",
    "    # get size m\n",
    "    m = A.shape[0]\n",
    "    \n",
    "    # initialize arrays\n",
    "    eigs = np.zeros(m)\n",
    "    vecs = np.zeros((m, m))\n",
    "    \n",
    "    # iterate some number of times\n",
    "    if num_iter is not None:\n",
    "        if type(num_iter) != int:\n",
    "            raise Exception('Invalid input for num_iter! Must be an integer # of iterations.')\n",
    "        else:\n",
    "            # initialize\n",
    "            lk = np.zeros(num_iter)\n",
    "            vk = np.zeros((num_iter, m, 1))\n",
    "            vk[0, :] = v0\n",
    "            lk[0] = v0.T @ A @ v0\n",
    "            \n",
    "            # iterate\n",
    "            for k in range(num_iter-1):\n",
    "                w = np.linalg.solve((A - lk[k]*np.eye(m)), vk[k, :])\n",
    "                vk[k+1, :] = w / np.linalg.norm(w)\n",
    "                lk[k+1] = vk[k+1, :].T @ A @ vk[k+1, :]\n",
    "                \n",
    "            return [lk[-1], vk[-1, :]]\n",
    "            \n",
    "    # iterate until the difference is very small\n",
    "    else:\n",
    "        # initialize\n",
    "        l0 = v0.T @ A @ v0\n",
    "        \n",
    "        # first iteration\n",
    "        n = 1\n",
    "        w = np.linalg.solve((A - l0*np.eye(m)), v0)\n",
    "        vk = w / np.linalg.norm(w)\n",
    "        lk = vk.T @ A @ vk\n",
    "        \n",
    "        # iterate until lambdas are equal within the tolerance\n",
    "        lk_prev = l0\n",
    "        while np.abs(lk - lk_prev) > tol:\n",
    "            n += 1\n",
    "            if n > stop:\n",
    "                print('STOPPED AFTER ' + str(int(stop)) + ' ITERATIONS')\n",
    "                return [lk[0][0], vk, n]\n",
    "                break\n",
    "            lk_prev = lk\n",
    "            try:\n",
    "                w = np.linalg.solve((A - lk*np.eye(m)), vk)\n",
    "            except:\n",
    "                return [float(lk), vk, n]\n",
    "                break\n",
    "            vk = w / np.linalg.norm(w)\n",
    "            lk = vk.T @ A @ vk            \n",
    "\n",
    "        return [lk[0][0], vk, n]\n",
    "    "
   ]
  },
  {
   "cell_type": "code",
   "execution_count": 5,
   "metadata": {},
   "outputs": [],
   "source": [
    "# function to find gradient of the rayleigh quotient\n",
    "r = lambda x: (x.T @ A @ x) / (x.T @ x)\n",
    "gradr = lambda x: (2 / (x.T @ x)) * ((A @ x) - (r(x)*x))\n",
    "   \n",
    "# to check for accuracy, this should be true\n",
    "tol = 1e-6\n",
    "is_close = lambda x: np.all(np.abs(gradr(x)) < tol)\n"
   ]
  },
  {
   "cell_type": "markdown",
   "metadata": {},
   "source": [
    "# 1. Eigenvalues and Power Iterations"
   ]
  },
  {
   "cell_type": "markdown",
   "metadata": {},
   "source": [
    "## part (a)\n",
    "Generate a random, symmetric matrix A which is mxm where m=10. Use the EIGS command (**scipy.linalg.eig**) to give you the _ground truth_ eigenvalues and eigenvectors\n",
    "\n",
    "Used suggestion from here to make the random matrix symmetric: https://stackoverflow.com/questions/10806790/generating-symmetric-matrices-in-numpy"
   ]
  },
  {
   "cell_type": "code",
   "execution_count": null,
   "metadata": {},
   "outputs": [],
   "source": [
    "# build the matrix\n",
    "m = 10\n",
    "A_nonsymm = np.random.randn(m, m)\n",
    "A = np.tril(A_nonsymm) + np.tril(A_nonsymm, -1).T\n",
    "\n",
    "# check symmetric\n",
    "print(np.all(A == A.T))\n",
    "\n",
    "# ground truth\n",
    "eigvals, eigvecs = scipy.linalg.eig(A)\n"
   ]
  },
  {
   "cell_type": "code",
   "execution_count": null,
   "metadata": {
    "scrolled": true
   },
   "outputs": [],
   "source": [
    "print(eigvals)"
   ]
  },
  {
   "cell_type": "markdown",
   "metadata": {},
   "source": [
    "## part (b)\n",
    "Find the largest eigenvalue with the **power iteration** method. Compare the accuracy of the method as a function of iterations."
   ]
  },
  {
   "cell_type": "markdown",
   "metadata": {},
   "source": [
    "##### Test it on a few things!"
   ]
  },
  {
   "cell_type": "code",
   "execution_count": null,
   "metadata": {},
   "outputs": [],
   "source": [
    "lambda1, v1, n = power_iteration(A, tol=tol)\n",
    "print(lambda1)\n",
    "print(is_close(v1))\n",
    "print(n, 'iterations')\n",
    "\n",
    "lambda2, v2 = power_iteration(A, num_iter=100)\n",
    "print('\\n', lambda2)\n",
    "print(is_close(v2))\n",
    "print('100 iterations')\n",
    "\n",
    "lambda3, v3 = power_iteration(A, num_iter=10000)\n",
    "print('\\n', lambda3)\n",
    "print(is_close(v3))\n",
    "print('10,000 iterations')\n"
   ]
  },
  {
   "cell_type": "code",
   "execution_count": null,
   "metadata": {
    "scrolled": true
   },
   "outputs": [],
   "source": [
    "# the true largest eigenvalue\n",
    "print(np.max(np.abs(eigvals)))"
   ]
  },
  {
   "cell_type": "markdown",
   "metadata": {},
   "source": [
    "### Make plots"
   ]
  },
  {
   "cell_type": "markdown",
   "metadata": {},
   "source": [
    "\"Find the largest eigenvalue with the **power iteration** method. Compare the accuracy of the method as a function of iterations.\" (_What happens to v(k) as k gets big? What is v converging to?_)"
   ]
  },
  {
   "cell_type": "code",
   "execution_count": null,
   "metadata": {},
   "outputs": [],
   "source": [
    "# TODO"
   ]
  },
  {
   "cell_type": "code",
   "execution_count": null,
   "metadata": {},
   "outputs": [],
   "source": []
  },
  {
   "cell_type": "markdown",
   "metadata": {},
   "source": [
    "## part (c)\n",
    "\n",
    "Find all 10 eigenvalues by **Rayleigh Quotient** iteration and guessing initial \"eigenvectors.\" Compare the accuracy of the method as a function of iterations and discuss your initial guesses to find all eigenvalue/eigenvector pairs."
   ]
  },
  {
   "cell_type": "markdown",
   "metadata": {},
   "source": [
    "##### ...actually guess...!!"
   ]
  },
  {
   "cell_type": "code",
   "execution_count": null,
   "metadata": {},
   "outputs": [],
   "source": [
    "# ?????"
   ]
  },
  {
   "cell_type": "code",
   "execution_count": null,
   "metadata": {},
   "outputs": [],
   "source": []
  },
  {
   "cell_type": "code",
   "execution_count": null,
   "metadata": {},
   "outputs": [],
   "source": []
  },
  {
   "cell_type": "code",
   "execution_count": null,
   "metadata": {},
   "outputs": [],
   "source": []
  },
  {
   "cell_type": "code",
   "execution_count": null,
   "metadata": {},
   "outputs": [],
   "source": []
  },
  {
   "cell_type": "markdown",
   "metadata": {},
   "source": [
    "##### Loop to get all 10 unique values\n",
    "NOTE: this only works as written for symmetric matrices A because you know the eigenvalues are unique!"
   ]
  },
  {
   "cell_type": "code",
   "execution_count": null,
   "metadata": {},
   "outputs": [],
   "source": [
    "def rand_unitvec(m):\n",
    "    \"\"\"Generate a random mx1 vector of unit length.\n",
    "    \"\"\"\n",
    "    v = np.random.randn(m, 1)\n",
    "    v1 = v / np.linalg.norm(v)\n",
    "    \n",
    "    return v1\n"
   ]
  },
  {
   "cell_type": "code",
   "execution_count": null,
   "metadata": {},
   "outputs": [],
   "source": [
    "# initialize list of eigenvalues with an array because it\n",
    "# gets returned as a float\n",
    "eigs_rq = np.zeros(1)\n",
    "\n",
    "# perform one iteration to find an eigenvalue/eigenvector pair\n",
    "eigs_rq[0], vecs_rq, n = rq_iteration(A, rand_unitvec(m))\n",
    "print(n, 'iterations')\n",
    "\n",
    "# repeat the iteration until you find all 10 unique ones;\n",
    "# check for uniqueness to 6 decimal points (because tol=1e-6)\n",
    "while len(eigs_rq) < 10:\n",
    "    eig, vecs, nn = rq_iteration(A, rand_unitvec(m), tol=1e-6)\n",
    "    if np.round(eig, 6) not in np.round(eigs_rq, 6):\n",
    "        print(n, 'iterations')\n",
    "        eigs_rq = np.append(eigs_rq, eig)\n",
    "        vecs_rq = np.append(vecs_rq, vecs, axis=-1)\n",
    "        "
   ]
  },
  {
   "cell_type": "code",
   "execution_count": null,
   "metadata": {},
   "outputs": [],
   "source": [
    "# try with some others...\n",
    "e2, v2 = rq_iteration(A, rand_unitvec(m), num_iter=2)\n",
    "print(e2)\n",
    "\n",
    "e3, v3 = rq_iteration(A, rand_unitvec(m), num_iter=3)\n",
    "print(e3)\n",
    "\n",
    "e5, v5 = rq_iteration(A, rand_unitvec(m), num_iter=5)\n",
    "print(e5)\n"
   ]
  },
  {
   "cell_type": "code",
   "execution_count": null,
   "metadata": {},
   "outputs": [],
   "source": []
  },
  {
   "cell_type": "markdown",
   "metadata": {},
   "source": [
    "##### quick check that you got all 10!"
   ]
  },
  {
   "cell_type": "code",
   "execution_count": null,
   "metadata": {
    "scrolled": false
   },
   "outputs": [],
   "source": [
    "print('From Rayleigh Quotient iteration:')\n",
    "# print(sorted(eigs_rq, key=abs)[::-1])\n",
    "for x in eigs_rq: print(x)\n",
    "\n",
    "print('\\nGround truth:')\n",
    "for x in eigvals: print(x)\n"
   ]
  },
  {
   "cell_type": "markdown",
   "metadata": {},
   "source": [
    "### Plot..."
   ]
  },
  {
   "cell_type": "code",
   "execution_count": null,
   "metadata": {},
   "outputs": [],
   "source": [
    "# TODO"
   ]
  },
  {
   "cell_type": "markdown",
   "metadata": {},
   "source": [
    "## part (d)\n",
    "Repeat (b) and (c) with a **random matrix** that is not symmetric. Be sure to plot the eigenvalue in the complex plane."
   ]
  },
  {
   "cell_type": "code",
   "execution_count": null,
   "metadata": {},
   "outputs": [],
   "source": [
    "# build the matrix\n",
    "m = 10\n",
    "A_ns = np.random.randn(m, m)\n",
    "\n",
    "# ground truth\n",
    "eigvals_ns, eigvecs_ns = scipy.linalg.eig(A_ns)\n"
   ]
  },
  {
   "cell_type": "code",
   "execution_count": null,
   "metadata": {},
   "outputs": [],
   "source": [
    "print(eigvals_ns)"
   ]
  },
  {
   "cell_type": "markdown",
   "metadata": {},
   "source": [
    "#### part (b), non-symmetric"
   ]
  },
  {
   "cell_type": "code",
   "execution_count": null,
   "metadata": {},
   "outputs": [],
   "source": [
    "# I think I need to do some kind of orthogonalization first??\n",
    "# check notes in AM"
   ]
  },
  {
   "cell_type": "code",
   "execution_count": null,
   "metadata": {},
   "outputs": [],
   "source": [
    "lambda1_ns, v1_ns = power_iteration(A_ns, tol=tol, num_iter=10000)\n",
    "print(lambda1_ns)\n",
    "print(is_close(v1_ns))\n",
    "print(gradr(v1_ns))\n"
   ]
  },
  {
   "cell_type": "code",
   "execution_count": null,
   "metadata": {
    "scrolled": true
   },
   "outputs": [],
   "source": [
    "%%time \n",
    "\n",
    "lambda2_ns, v2_ns, n2_ns = power_iteration(A_ns, tol=1e-6, stop=1e6)\n",
    "print(lambda2_ns)\n",
    "print(is_close(v2_ns))\n",
    "print(gradr(v2_ns))\n"
   ]
  },
  {
   "cell_type": "code",
   "execution_count": null,
   "metadata": {},
   "outputs": [],
   "source": [
    "# ...not sure what the difference here will be... just more iterations\n",
    "# needed? \n",
    "\n",
    "# do I need to make sure the initial guess is complex??\n"
   ]
  },
  {
   "cell_type": "markdown",
   "metadata": {},
   "source": [
    "#### part (c), non-symmetric"
   ]
  },
  {
   "cell_type": "code",
   "execution_count": null,
   "metadata": {},
   "outputs": [],
   "source": [
    "%%time\n",
    "# ACTUALLY GUESS for Rayleigh stuff! (not this)\n",
    "\n",
    "v0c = np.random.randn(m, 1) + np.random.randn(m, 1)*1j\n",
    "v0c = v0c / np.linalg.norm(v0c)\n",
    "\n",
    "te, tv, tn = rq_iteration(A_ns, v0c, tol=1e-6, stop=1e6)\n",
    "print(te)\n",
    "print(tn)\n"
   ]
  },
  {
   "cell_type": "code",
   "execution_count": null,
   "metadata": {},
   "outputs": [],
   "source": []
  },
  {
   "cell_type": "code",
   "execution_count": null,
   "metadata": {},
   "outputs": [],
   "source": [
    "# ALSO NOT SURE WHAT TO DO HERE!\n",
    "# ...because how can you get the eigenvecs/eigenvals? Just stop after\n",
    "# some limit??"
   ]
  },
  {
   "cell_type": "code",
   "execution_count": null,
   "metadata": {},
   "outputs": [],
   "source": []
  },
  {
   "cell_type": "markdown",
   "metadata": {},
   "source": [
    "# 2. Yale Faces"
   ]
  },
  {
   "cell_type": "markdown",
   "metadata": {},
   "source": [
    "## Read in the data:"
   ]
  },
  {
   "cell_type": "markdown",
   "metadata": {},
   "source": [
    "### Cropped:"
   ]
  },
  {
   "cell_type": "code",
   "execution_count": 12,
   "metadata": {},
   "outputs": [],
   "source": [
    "# get a list of paths to each subfolder in CroppedYale\n",
    "paths = [crop_dir + dirname for dirname in os.listdir(crop_dir)\n",
    "         if os.path.isdir(os.path.join(crop_dir, dirname))]\n",
    "\n",
    "# initialize list to hold the averaged data matrices for each image\n",
    "n_img = len(paths)\n",
    "cropped_pics = [[]]*n_img\n",
    "cropped_avgs = [[]]*n_img\n",
    "\n",
    "for i in range(n_img):\n",
    "    # get the list of file names within the subfolder for that image\n",
    "    subfolder = paths[i] + '/'\n",
    "    imagenames = [subfolder + f for f in os.listdir(subfolder)\n",
    "                  if os.path.isfile(os.path.join(subfolder, f))]\n",
    "    \n",
    "    # make one list containing the data matrices for each (grayscale) image \n",
    "    cropped_pics[i] = [cv2.cvtColor(cv2.imread(x), cv2.COLOR_BGR2GRAY) for x in imagenames]\n",
    "\n",
    "    # averaged the data matrix for this image and add to the list\n",
    "    cropped_avgs[i] = np.mean(cropped_pics[i], axis=0)\n",
    "    "
   ]
  },
  {
   "cell_type": "code",
   "execution_count": 7,
   "metadata": {},
   "outputs": [
    {
     "name": "stdout",
     "output_type": "stream",
     "text": [
      "(32256, 2432)\n"
     ]
    }
   ],
   "source": [
    "# stack so each image is one column in the data matrix\n",
    "all_pics_c = [cropped_pics[i][j].flatten() for i in range(len(cropped_pics))\n",
    "              for j in range(len(cropped_pics[i]))]\n",
    "A_yf = np.transpose(np.asarray(all_pics_c))\n",
    "\n",
    "print(A_yf.shape)\n"
   ]
  },
  {
   "cell_type": "code",
   "execution_count": 17,
   "metadata": {},
   "outputs": [
    {
     "name": "stdout",
     "output_type": "stream",
     "text": [
      "(168, 7296)\n"
     ]
    }
   ],
   "source": [
    "# repeat for the averaged matrix\n",
    "avg_pics_c = [cropped_avgs[i][j].flatten() for i in range(len(cropped_avgs))\n",
    "              for j in range(len(cropped_avgs[i]))]\n",
    "A_avg = np.transpose(np.asarray(avg_pics_c))\n",
    "\n",
    "print(A_avg.shape)\n"
   ]
  },
  {
   "cell_type": "code",
   "execution_count": 18,
   "metadata": {},
   "outputs": [
    {
     "name": "stdout",
     "output_type": "stream",
     "text": [
      "CPU times: user 20.7 ms, sys: 7.84 ms, total: 28.5 ms\n",
      "Wall time: 20.9 ms\n"
     ]
    }
   ],
   "source": [
    "%%time\n",
    "\n",
    "C_avg = np.corrcoef(A_avg)\n"
   ]
  },
  {
   "cell_type": "code",
   "execution_count": 22,
   "metadata": {},
   "outputs": [
    {
     "data": {
      "text/plain": [
       "array([[1.        , 0.99423979, 0.97958643, ..., 0.76016955, 0.75067853,\n",
       "        0.73910668],\n",
       "       [0.99423979, 1.        , 0.99431999, ..., 0.76026178, 0.74915701,\n",
       "        0.73616058],\n",
       "       [0.97958643, 0.99431999, 1.        , ..., 0.75820589, 0.74541027,\n",
       "        0.73083476],\n",
       "       ...,\n",
       "       [0.76016955, 0.76026178, 0.75820589, ..., 1.        , 0.99349548,\n",
       "        0.9788784 ],\n",
       "       [0.75067853, 0.74915701, 0.74541027, ..., 0.99349548, 1.        ,\n",
       "        0.99452001],\n",
       "       [0.73910668, 0.73616058, 0.73083476, ..., 0.9788784 , 0.99452001,\n",
       "        1.        ]])"
      ]
     },
     "execution_count": 22,
     "metadata": {},
     "output_type": "execute_result"
    }
   ],
   "source": [
    "C_avg"
   ]
  },
  {
   "cell_type": "code",
   "execution_count": 8,
   "metadata": {},
   "outputs": [],
   "source": [
    "one_person = [cropped_pics[i][0].flatten() for i in range(len(cropped_pics))]\n",
    "A_1pers = np.transpose(np.asarray(one_person))\n"
   ]
  },
  {
   "cell_type": "code",
   "execution_count": 9,
   "metadata": {},
   "outputs": [
    {
     "data": {
      "text/plain": [
       "(32256, 38)"
      ]
     },
     "execution_count": 9,
     "metadata": {},
     "output_type": "execute_result"
    }
   ],
   "source": [
    "A_1pers.shape"
   ]
  },
  {
   "cell_type": "code",
   "execution_count": 10,
   "metadata": {},
   "outputs": [],
   "source": [
    "ten_peeps = [cropped_pics[i][j].flatten() for i in range(len(cropped_pics))\n",
    "             for j in range(10)]\n",
    "A_10p = np.transpose(np.asarray(ten_peeps))\n"
   ]
  },
  {
   "cell_type": "code",
   "execution_count": null,
   "metadata": {},
   "outputs": [],
   "source": [
    "power"
   ]
  },
  {
   "cell_type": "code",
   "execution_count": null,
   "metadata": {},
   "outputs": [],
   "source": []
  },
  {
   "cell_type": "markdown",
   "metadata": {},
   "source": [
    "## part (a)\n",
    "**Power iterate** on the matrix of images to find the dominant eigenvector and eigenvalue. Compare to the leading order SVD mode."
   ]
  },
  {
   "cell_type": "code",
   "execution_count": 34,
   "metadata": {},
   "outputs": [],
   "source": [
    "# on the average matrix\n",
    "l_avg, v_avg, n_avg = power_iteration(C_avg)\n"
   ]
  },
  {
   "cell_type": "code",
   "execution_count": 35,
   "metadata": {},
   "outputs": [],
   "source": [
    "# perform (economy) SVD\n",
    "[Ut, St, VTt] = np.linalg.svd(C_avg, full_matrices=False)\n"
   ]
  },
  {
   "cell_type": "code",
   "execution_count": 37,
   "metadata": {},
   "outputs": [
    {
     "name": "stdout",
     "output_type": "stream",
     "text": [
      "100.09425814718432 100.09425814718422\n"
     ]
    }
   ],
   "source": [
    "print(St[0], l_avg)"
   ]
  },
  {
   "cell_type": "markdown",
   "metadata": {},
   "source": [
    "#### Plots???"
   ]
  },
  {
   "cell_type": "code",
   "execution_count": null,
   "metadata": {},
   "outputs": [],
   "source": [
    "# TODO? But I don't actually think I need to\n"
   ]
  },
  {
   "cell_type": "markdown",
   "metadata": {},
   "source": [
    "## part (b)\n",
    "Use **randomized sampling** to reproduce the SVD matrices: U, $\\Sigma$, and V"
   ]
  },
  {
   "cell_type": "code",
   "execution_count": null,
   "metadata": {},
   "outputs": [],
   "source": []
  },
  {
   "cell_type": "code",
   "execution_count": null,
   "metadata": {},
   "outputs": [],
   "source": []
  },
  {
   "cell_type": "markdown",
   "metadata": {},
   "source": [
    "## part (c)\n",
    "Copare the randomized modes to the true modes along with the singular value decay as a function of the number of randomized samples"
   ]
  },
  {
   "cell_type": "code",
   "execution_count": null,
   "metadata": {},
   "outputs": [],
   "source": []
  },
  {
   "cell_type": "code",
   "execution_count": null,
   "metadata": {},
   "outputs": [],
   "source": []
  }
 ],
 "metadata": {
  "kernelspec": {
   "display_name": "amath",
   "language": "python",
   "name": "amath"
  },
  "language_info": {
   "codemirror_mode": {
    "name": "ipython",
    "version": 3
   },
   "file_extension": ".py",
   "mimetype": "text/x-python",
   "name": "python",
   "nbconvert_exporter": "python",
   "pygments_lexer": "ipython3",
   "version": "3.8.3"
  }
 },
 "nbformat": 4,
 "nbformat_minor": 2
}
