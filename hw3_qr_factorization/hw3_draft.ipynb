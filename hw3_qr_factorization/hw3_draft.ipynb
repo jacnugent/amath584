{
 "cells": [
  {
   "cell_type": "markdown",
   "metadata": {},
   "source": [
    "# Draft code for homework 3\n",
    "...because it's easier to mess around in a Jupyter notebook than in a python script!\n"
   ]
  },
  {
   "cell_type": "markdown",
   "metadata": {},
   "source": [
    "# TODO:\n",
    "* make python script and rerun code/plots/matrices\n",
    "* type up explanations in latex\n",
    "* submit!!!\n"
   ]
  },
  {
   "cell_type": "code",
   "execution_count": 49,
   "metadata": {},
   "outputs": [],
   "source": [
    "import math\n",
    "import random\n",
    "import pickle\n",
    "\n",
    "import numpy as np\n",
    "import matplotlib.pyplot as plt\n",
    "import matplotlib.colors as colors\n"
   ]
  },
  {
   "cell_type": "code",
   "execution_count": 2,
   "metadata": {},
   "outputs": [],
   "source": [
    "main_dir = '/Users/jmnugent/Documents/__Year_3_2020-2021/AMATH_584-Numerical_Linear_Algebra/Homework/python/'\n",
    "save_dir = main_dir + 'amath584/hw3_qr_factorization/'\n"
   ]
  },
  {
   "cell_type": "code",
   "execution_count": 187,
   "metadata": {},
   "outputs": [],
   "source": [
    "# Save the random matrices so you can import into matlab?\n",
    "SAVE_MATS = True \n",
    "\n",
    "# Save the figures?\n",
    "SAVE_FIGS = True\n"
   ]
  },
  {
   "cell_type": "markdown",
   "metadata": {},
   "source": [
    "# 1. QR decomposition\n",
    "\n",
    "## Develop a numerical algorithm that implements the modified Gram-Schmidt orthogonalization procedure"
   ]
  },
  {
   "cell_type": "markdown",
   "metadata": {},
   "source": [
    "Helpful link: \n",
    "    https://www.math.uci.edu/~ttrogdon/105A/html/Lecture23.html"
   ]
  },
  {
   "cell_type": "markdown",
   "metadata": {},
   "source": [
    "# TODO: Check interpretation/that your comments are correct..."
   ]
  },
  {
   "cell_type": "code",
   "execution_count": 5,
   "metadata": {},
   "outputs": [],
   "source": [
    "def gram_schmidt(A):\n",
    "    \"\"\"\n",
    "    Perform QR decomposition on input matrix A using\n",
    "    the modified Gram-Schmidt orthogonalization procedure;\n",
    "    gives the reduced form of the QR factorization of A.\n",
    "\n",
    "    Input: matrix A (numpy array)\n",
    "    Returns: matrices Q, R (numpy arrays)                                       \n",
    "    \"\"\"\n",
    "    m, n = np.shape(A)\n",
    "    Q = np.zeros(np.shape(A))\n",
    "    R = np.zeros((n, n))\n",
    "\n",
    "    # initialize V from A - this will make\n",
    "    # q1 = direction of a1\n",
    "    V = A.copy()\n",
    "    \n",
    "    # iterate through each column\n",
    "    for i in range(0, n):\n",
    "        # normalize vi to get qi\n",
    "        R[i, i] = np.linalg.norm(V[:, i])\n",
    "        Q[:, i] = V[:, i] / R[i, i]\n",
    "\n",
    "        # recursively project all the pieces out\n",
    "        for j in range(i, n):\n",
    "            # projection of jth vector onto the ith direction\n",
    "            R[i, j] = np.conj(Q[:, i]).T @ V[:, j]\n",
    "            \n",
    "            # subtract the vector that's orthogonal to that projection\n",
    "            V[:, j] = V[:, j] - R[i, j]*Q[:, i]\n",
    "\n",
    "\n",
    "    return Q, R\n"
   ]
  },
  {
   "cell_type": "markdown",
   "metadata": {},
   "source": [
    "## (b) Compare your algorithm to\n",
    "\n",
    "* the **qrfactor.m** code that we built in class (you can download it from the third lecture on QR on the website)\n",
    "    \n",
    "* MATLAB’s **QR algorithm** on a variety of matrices to see how well your algorithm work\n",
    "    \n",
    "Be sure to try it on a matrix that is ill-conditions, i.e. cond(A) ≫ 1."
   ]
  },
  {
   "cell_type": "markdown",
   "metadata": {},
   "source": [
    "### some functions to check "
   ]
  },
  {
   "cell_type": "code",
   "execution_count": 43,
   "metadata": {
    "scrolled": true
   },
   "outputs": [],
   "source": [
    "def check_orthonormal(Q, rel_tol=1e-9, abs_tol=1e-9):\n",
    "    \"\"\"\n",
    "    Quick check if a columns of a matrix Q form an \n",
    "    orthonormal basis.\n",
    "    \n",
    "    Prints statement on if Q is orthonormal.\n",
    "    \"\"\"\n",
    "    orthonorm = True\n",
    "    \n",
    "    # check if all columns have norm 1 (normal):\n",
    "    for i in range(np.shape(Q)[1]):\n",
    "        dot = Q[:, i] @ Q[:, i-1]\n",
    "        norm = np.linalg.norm(Q[:, i-1])\n",
    "        if not math.isclose(norm, 1, rel_tol=rel_tol):\n",
    "            print('Q is NOT orthonormal: for at least one column, norm = {n} =/= 1'.format(n=norm))\n",
    "            orthonorm = False\n",
    "            break\n",
    "            \n",
    "    # check Q^T * Q = I (orthogonal):\n",
    "    prod = Q.T @ Q\n",
    "    identity = True\n",
    "    for i in range(np.shape(prod)[0]):\n",
    "        for j in range(np.shape(prod)[1]):\n",
    "            \n",
    "            # check diagonals are 1\n",
    "            if i == j:\n",
    "                if not math.isclose(prod[i, j], 1, rel_tol=rel_tol):\n",
    "                    identity = False\n",
    "                    break\n",
    "            \n",
    "            # check off-diagonals are zero\n",
    "            else:\n",
    "                if not math.isclose(prod[i, j], 0, abs_tol=abs_tol):\n",
    "                    identity = False    \n",
    "                    break\n",
    "       \n",
    "    if not identity:\n",
    "        orthonorm = False\n",
    "        print('Q is NOT orthonormal: the product Q^T * Q =/= I')\n",
    "\n",
    "    if orthonorm:\n",
    "        print('Q is orthonormal')\n"
   ]
  },
  {
   "cell_type": "code",
   "execution_count": 7,
   "metadata": {},
   "outputs": [],
   "source": [
    "def check_size(A, Q, R):\n",
    "    \"\"\"\n",
    "    Check the size of matrices Q and R from the QR \n",
    "    factorization of A.\n",
    "    \n",
    "    Prints statement on if Q and R have correct sizes\n",
    "    \"\"\"\n",
    "    m, n = np.shape(A)\n",
    "    \n",
    "    if np.shape(A) == np.shape(Q):\n",
    "        qsize = 'Q is the correct size'\n",
    "    else:\n",
    "        qsize = 'Q is NOT the correct size'\n",
    "        \n",
    "    if np.shape(R) != (n, n):\n",
    "        rsize = 'R is NOT the correct size'\n",
    "    else:\n",
    "        rsize = 'R is the correct size'\n",
    "    \n",
    "    print(qsize + ' and ' + rsize)\n",
    "    "
   ]
  },
  {
   "cell_type": "markdown",
   "metadata": {},
   "source": [
    "### Set up some matrices to test"
   ]
  },
  {
   "cell_type": "code",
   "execution_count": 188,
   "metadata": {
    "scrolled": true
   },
   "outputs": [
    {
     "name": "stdout",
     "output_type": "stream",
     "text": [
      "Matrix of size (70, 70) with cond(A) = 525.7\n",
      "Matrix of size (70, 10) with cond(A) = 1.9\n",
      "Matrix of size (700, 10) with cond(A) = 1.2\n",
      "Matrix of size (70, 11) with cond(A) = 9.274826e+15\n"
     ]
    }
   ],
   "source": [
    "# doing this randomly... any need for better structure??\n",
    "m = 70\n",
    "n = 10\n",
    "\n",
    "# square\n",
    "A_sq = np.random.randn(m, m)\n",
    "print('Matrix of size {s} with cond(A) = {c}'.format(s=A_sq.shape, c=np.round(np.linalg.cond(A_sq), 1)))\n",
    "\n",
    "# tall and skinny #1\n",
    "A_ts1 = np.random.randn(m, n)\n",
    "print('Matrix of size {s} with cond(A) = {c}'.format(s=A_ts1.shape, c=np.round(np.linalg.cond(A_ts1), 1)))\n",
    "\n",
    "# tall and skinny #2\n",
    "A_ts2 = np.random.randn(m*10, n)\n",
    "print('Matrix of size {s} with cond(A) = {c}'.format(s=A_ts2.shape, c=np.round(np.linalg.cond(A_ts2), 1)))\n",
    "\n",
    "# ill-conditioned matrix\n",
    "A_orig = np.random.randn(m, n)\n",
    "A_ic = np.hstack((A_orig, np.reshape(A_orig[:, 0], (m, 1))))\n",
    "cn = '{:e}'.format(np.linalg.cond(A_ic))\n",
    "print('Matrix of size {s} with cond(A) = {c}'.format(s=A_ic.shape, c=cn))\n",
    "\n",
    "# put them in a list\n",
    "mat_list = [A_sq, A_ts1, A_ts2, A_ic]\n",
    "mat_names = ['m{}'.format(x) for x in range(len(mat_list))]\n",
    "\n",
    "# save so you can load into matlab\n",
    "if SAVE_MATS:\n",
    "    io.savemat(save_dir + 'random_matrices.mat', mdict=dict(zip(mat_names, mat_list)))\n",
    "    "
   ]
  },
  {
   "cell_type": "markdown",
   "metadata": {},
   "source": [
    "### Run the algorithm and compare:"
   ]
  },
  {
   "cell_type": "markdown",
   "metadata": {},
   "source": [
    "#### your algorithm:"
   ]
  },
  {
   "cell_type": "code",
   "execution_count": 47,
   "metadata": {
    "scrolled": false
   },
   "outputs": [
    {
     "name": "stdout",
     "output_type": "stream",
     "text": [
      "modified Gram-Schmidt:\n",
      "\n",
      "Q is the correct size and R is the correct size\n",
      "condition number of QR: 248.3857196488019\n",
      "norm of A - QR: 2.0686295624159398e-14\n",
      "Q is orthonormal\n",
      "\n",
      "\n",
      "Q is the correct size and R is the correct size\n",
      "condition number of QR: 1.8656663678441023\n",
      "norm of A - QR: 4.125671567097683e-15\n",
      "Q is orthonormal\n",
      "\n",
      "\n",
      "Q is the correct size and R is the correct size\n",
      "condition number of QR: 1.1804317130419044\n",
      "norm of A - QR: 2.90009196200507e-14\n",
      "Q is orthonormal\n",
      "\n",
      "\n",
      "Q is the correct size and R is the correct size\n",
      "condition number of QR: 1.028497428559428e+16\n",
      "norm of A - QR: 5.450152028265922e-15\n",
      "Q is NOT orthonormal: the product Q^T * Q =/= I\n",
      "\n",
      "\n"
     ]
    }
   ],
   "source": [
    "print('modified Gram-Schmidt:\\n')\n",
    "my_alg = [[]]*len(mat_list)\n",
    "\n",
    "for i in range(len(mat_list)):\n",
    "    Q, R = gram_schmidt(mat_list[i])\n",
    "    my_alg[i] = Q @ R\n",
    "    \n",
    "    check_size(mat_list[i], Q, R)\n",
    "    print('condition number of QR:', np.linalg.cond(my_alg[i]))\n",
    "    diff = my_alg[i] - mat_list[i]\n",
    "    print('norm of A - QR:'.format(i), np.linalg.norm(diff))\n",
    "    check_orthonormal(Q)\n",
    "    print('\\n')\n",
    "\n"
   ]
  },
  {
   "cell_type": "markdown",
   "metadata": {},
   "source": [
    "#### MATLAB script from class: DO IN MATLAB!"
   ]
  },
  {
   "cell_type": "code",
   "execution_count": null,
   "metadata": {},
   "outputs": [],
   "source": []
  },
  {
   "cell_type": "markdown",
   "metadata": {},
   "source": [
    "#### python's QR algorithm:\n",
    "`Q, R = np.linalg.qr(A)`"
   ]
  },
  {
   "cell_type": "code",
   "execution_count": 48,
   "metadata": {
    "scrolled": false
   },
   "outputs": [
    {
     "name": "stdout",
     "output_type": "stream",
     "text": [
      "Python's QR algorithm:\n",
      "Q is the correct size and R is the correct size\n",
      "norm of A - QR: 3.688854718011995e-14\n",
      "condition number of QR: 248.38571964880555\n",
      "Q is orthonormal\n",
      "\n",
      "\n",
      "Q is the correct size and R is the correct size\n",
      "norm of A - QR: 7.746799984784617e-15\n",
      "condition number of QR: 1.8656663678441014\n",
      "Q is orthonormal\n",
      "\n",
      "\n",
      "Q is the correct size and R is the correct size\n",
      "norm of A - QR: 1.8687607206258073e-14\n",
      "condition number of QR: 1.1804317130419042\n",
      "Q is orthonormal\n",
      "\n",
      "\n",
      "Q is the correct size and R is the correct size\n",
      "norm of A - QR: 5.686306318308852e-15\n",
      "condition number of QR: 5926112561155176.0\n",
      "Q is orthonormal\n",
      "\n",
      "\n"
     ]
    }
   ],
   "source": [
    "print('Python\\'s QR algorithm:')\n",
    "python_alg = [[]]*len(mat_list)\n",
    "\n",
    "for i in range(len(mat_list)):\n",
    "    Q, R = np.linalg.qr(mat_list[i])\n",
    "    python_alg[i] = Q @ R\n",
    "    diff = python_alg[i] - mat_list[i]\n",
    "    check_size(mat_list[i], Q, R)\n",
    "    print('norm of A - QR:'.format(i), np.linalg.norm(diff))\n",
    "    print('condition number of QR:', np.linalg.cond(python_alg[i]))\n",
    "    check_orthonormal(Q)\n",
    "    print('\\n')\n"
   ]
  },
  {
   "cell_type": "code",
   "execution_count": null,
   "metadata": {},
   "outputs": [],
   "source": []
  },
  {
   "cell_type": "markdown",
   "metadata": {},
   "source": [
    "# 2. Polynomial\n",
    "Consider the polynomial \n",
    "$$ p(x) = (x-2)^9 = x^9 - 18x^8 + 144x^7 -672x^6 + 2016x^5 - 4032x^4 + 5376x^3 - 4608x^2 + 2304x - 512 $$\n",
    "\n",
    "* plot the polynomial $p(x)$ for $x \\in \\left[1.920, 2.080\\right]$ for step-sizes of $\\delta x = 0.001$ using the **right-hand side** of the expression above\n",
    "\n",
    "* plot the polynomial again over the same interval using the **left-hand side** of the expression, i.e. $(x-9)^9$.\n"
   ]
  },
  {
   "cell_type": "code",
   "execution_count": 193,
   "metadata": {},
   "outputs": [],
   "source": [
    "def plot_polynomial(func, x, ylim, title, filename, save_dir, \n",
    "                    save=False):\n",
    "    \"\"\"\n",
    "    \"\"\"\n",
    "    y = func(x)\n",
    "    \n",
    "    plt.plot(x, func(x))\n",
    "    plt.title(title)\n",
    "    plt.ylim(ylim)\n",
    "    \n",
    "    if save:\n",
    "        plt.savefig(save_dir + filename, dpi=300, bbox_inches='tight')\n",
    "    \n",
    "    plt.show()\n",
    "    "
   ]
  },
  {
   "cell_type": "code",
   "execution_count": 194,
   "metadata": {
    "scrolled": false
   },
   "outputs": [
    {
     "data": {
      "image/png": "[encoded data removed]",
      "text/plain": [
       "<Figure size 432x288 with 1 Axes>"
      ]
     },
     "metadata": {
      "needs_background": "light"
     },
     "output_type": "display_data"
    },
    {
     "data": {
      "image/png": "[encoded data removed]",
      "text/plain": [
       "<Figure size 432x288 with 1 Axes>"
      ]
     },
     "metadata": {
      "needs_background": "light"
     },
     "output_type": "display_data"
    }
   ],
   "source": [
    "# polynomials:\n",
    "p_rhs = lambda x: x**9 - 18*x**8 + 144*x**7 - 672*x**6 + 2016*x**5 - 4032*x**4 + 5376*x**3 - 4608*x**2 + 2304*x - 512\n",
    "p_lhs = lambda x: (x-2)**9\n",
    "\n",
    "# interval\n",
    "dx = 0.001\n",
    "xspan = np.arange(1.920, 2.080, dx)\n",
    "\n",
    "# plots:\n",
    "plot_polynomial(p_rhs, xspan, ylim=(-1.5e-10, 1.5e-10),\n",
    "                title='Right-hand side of $p(x)$', filename='px_rhs.png',\n",
    "                save_dir=save_dir, save=SAVE_FIGS)\n",
    "\n",
    "plot_polynomial(p_lhs, xspan, ylim=(-1.5e-10, 1.5e-10),\n",
    "                title='Left-hand side of $p(x)$', filename='px_lhs.png',\n",
    "                save_dir=save_dir, save=SAVE_FIGS)\n"
   ]
  },
  {
   "cell_type": "code",
   "execution_count": null,
   "metadata": {},
   "outputs": [],
   "source": []
  },
  {
   "cell_type": "markdown",
   "metadata": {},
   "source": [
    "# 3. Consider the conditioning of a matrix:\n",
    "(a) **Construct a random matrix** of size $m \\times n$ where $m > n$, i.e. use $A = \\text{randn}(m, n)$. **Study the condition number as a function of the size** of the matrix (increase the $m$ and $n$). "
   ]
  },
  {
   "cell_type": "code",
   "execution_count": 50,
   "metadata": {},
   "outputs": [],
   "source": [
    "# condition number as a function of size\n",
    "condition_num = lambda m, n: np.linalg.cond(np.random.randn(m, n))\n",
    "\n",
    "# get some values for m and n\n",
    "ms = [int(x) for x in np.arange(1, 200)]\n",
    "ns = [int(x) for x in np.arange(1, 100)]\n",
    "\n",
    "# find the condition numbers for m > n\n",
    "cs = np.zeros((len(ms), len(ns)))\n",
    "\n",
    "for i in range(len(ms)):\n",
    "    for j in range(len(ns)):\n",
    "        m = ms[i]\n",
    "        n = ns[j]\n",
    "        if m == n:\n",
    "            cs[i, j] = np.nan\n",
    "        else:\n",
    "            cs[i, j] = condition_num(m, n)\n"
   ]
  },
  {
   "cell_type": "code",
   "execution_count": 51,
   "metadata": {
    "scrolled": false
   },
   "outputs": [
    {
     "name": "stderr",
     "output_type": "stream",
     "text": [
      "/anaconda2/envs/amath/lib/python3.8/site-packages/matplotlib/colors.py:1171: RuntimeWarning: invalid value encountered in less_equal\n",
      "  mask |= resdat <= 0\n"
     ]
    },
    {
     "data": {
      "image/png": "[encoded data removed]",
      "text/plain": [
       "<Figure size 504x504 with 2 Axes>"
      ]
     },
     "metadata": {
      "needs_background": "light"
     },
     "output_type": "display_data"
    }
   ],
   "source": [
    "# plot\n",
    "tsize = 15\n",
    "fsize=13\n",
    "\n",
    "fig, ax = plt.subplots(figsize=(7, 7))\n",
    "\n",
    "pcm = ax.pcolormesh(ns, ms, cs, cmap='PuBuGn', norm=colors.LogNorm()) \n",
    "cb = fig.colorbar(pcm, ax=ax)\n",
    "cb.ax.tick_params(labelsize=fsize)\n",
    "pcm.set_clim((1, 1e4))\n",
    "\n",
    "ax.set_ylim((0, 200))\n",
    "ax.set_xlim((0, 100))\n",
    "ax.tick_params(axis='both', labelsize=fsize)\n",
    "ax.set_ylabel('m    ', rotation=0, fontsize=tsize)\n",
    "ax.set_xlabel('n', fontsize=tsize)\n",
    "ax.set_title('Condition number of a random m x n matrix\\n', fontsize=tsize)\n",
    "\n",
    "if SAVE_FIGS:\n",
    "    plt.savefig(save_dir + 'condition_number_function.png', dpi=300, bbox_inches='tight')\n",
    "\n",
    "plt.show()\n"
   ]
  },
  {
   "cell_type": "code",
   "execution_count": 52,
   "metadata": {},
   "outputs": [
    {
     "data": {
      "image/png": "[encoded data removed]",
      "text/plain": [
       "<Figure size 432x288 with 1 Axes>"
      ]
     },
     "metadata": {
      "needs_background": "light"
     },
     "output_type": "display_data"
    }
   ],
   "source": [
    "cs_psq = [condition_num(m+1, m) for m in ms]\n",
    "\n",
    "plt.plot(ms, cs_psq)\n",
    "\n",
    "plt.yscale('log')\n",
    "plt.ylim(.9, 1e4)\n",
    "\n",
    "plt.ylabel('Condition number', fontsize=fsize)\n",
    "plt.xlabel('m', fontsize=fsize)\n",
    "plt.title('Condition number of a random (m+1) x m matrix')\n",
    "\n",
    "if SAVE_FIGS:\n",
    "    plt.savefig(save_dir + 'cond_num_near_psq.png', dpi=300, bbox_inches='tight')\n",
    "\n",
    "plt.show()\n"
   ]
  },
  {
   "cell_type": "markdown",
   "metadata": {},
   "source": [
    "(b) For a fixed $m$ and $n$, copy the first column of A and append it as the $(n+1)$th column of A. **What is the condition number and determinant of the matrix?**"
   ]
  },
  {
   "cell_type": "code",
   "execution_count": 75,
   "metadata": {},
   "outputs": [],
   "source": [
    "def det_cond(m, n, print_results=True):\n",
    "    \"\"\"\n",
    "    Appends the first column of a random mxn matrix A\n",
    "    as the (n+1)th column of A. Prints the appended \n",
    "    size, the condition number, and the determinant if\n",
    "    requested. Returns the appended random matrix A.\n",
    "    \"\"\"\n",
    "    A = np.random.randn(m, n)\n",
    "\n",
    "    # first column of A\n",
    "    col_n1 = np.reshape(A[:, 0], (m, 1))\n",
    "\n",
    "    # append as the (n+1)th column of A\n",
    "    A = np.hstack((A, col_n1))\n",
    "\n",
    "    if print_results:\n",
    "        print('Original size: {}'.format((m, n)))\n",
    "        print('Appended size: {}'.format(np.shape(A)))\n",
    "        print('Condition number: {}'.format(np.linalg.cond(A)))\n",
    "        print('Determinant: {}'.format(np.linalg.det(A)))\n",
    "        \n",
    "    return A\n"
   ]
  },
  {
   "cell_type": "markdown",
   "metadata": {},
   "source": [
    "Determinants oscillate between + and -, but for square matrices larger than ~33x33, the determinant increases towards +/- infinity??\n",
    "\n",
    "(probably something to do with the roundoff error...?)"
   ]
  },
  {
   "cell_type": "code",
   "execution_count": 130,
   "metadata": {},
   "outputs": [
    {
     "name": "stdout",
     "output_type": "stream",
     "text": [
      "Original size: (2, 1)\n",
      "Appended size: (2, 2)\n",
      "Condition number: 1.7494838045691184e+16\n",
      "Determinant: 3.574958251605329e-16\n",
      "\n",
      "\n",
      "Original size: (5, 4)\n",
      "Appended size: (5, 5)\n",
      "Condition number: 1.2275406700458112e+16\n",
      "Determinant: -2.1669964402692285e-15\n",
      "\n",
      "\n",
      "Original size: (10, 9)\n",
      "Appended size: (10, 10)\n",
      "Condition number: 1.5765955934356966e+16\n",
      "Determinant: -7.268284932546556e-15\n",
      "\n",
      "\n",
      "Original size: (15, 14)\n",
      "Appended size: (15, 15)\n",
      "Condition number: 5.044115000843638e+16\n",
      "Determinant: 1.9909528503001976e-11\n",
      "\n",
      "\n",
      "Original size: (20, 19)\n",
      "Appended size: (20, 20)\n",
      "Condition number: 1.717867416247578e+17\n",
      "Determinant: -1.7031536108340488e-08\n",
      "\n",
      "\n",
      "Original size: (25, 24)\n",
      "Appended size: (25, 25)\n",
      "Condition number: 5.543844574112163e+16\n",
      "Determinant: -1.1352985377192015e-05\n",
      "\n",
      "\n"
     ]
    }
   ],
   "source": [
    "# try it for a few values of m and n\n",
    "ms = [2, 5, 10, 15, 20, 25]\n",
    "ns = [m-1 for m in ms]\n",
    "\n",
    "for i in range(len(ms)):\n",
    "    det_cond(ms[i], ns[i])\n",
    "    print('\\n')\n"
   ]
  },
  {
   "cell_type": "markdown",
   "metadata": {},
   "source": [
    "(c) Take the appended $(m+1)$th column and **add noise to it**, i.e. $a_{n+1} = a_{n+1} + \\epsilon \\text{ rand}(m, 1)$ and **see what happens to the condition number as a function of $\\epsilon$.**"
   ]
  },
  {
   "cell_type": "code",
   "execution_count": 132,
   "metadata": {},
   "outputs": [],
   "source": [
    "# condition number as a function of epsilon\n",
    "def cond_eps(m, n, eps):\n",
    "    \"\"\"\n",
    "    Returns the condition number for a random \n",
    "    mxn, m>n, matrix A and noise scale epsilon.\n",
    "    \"\"\"\n",
    "    A = np.random.randn(m, n)\n",
    "    cond_orig = np.linalg.cond(A)\n",
    "    \n",
    "    # first column of A\n",
    "    col_n1 = np.reshape(A[:, 0], (m, 1))\n",
    "\n",
    "    # append as the (n+1)th column of A\n",
    "    A = np.hstack((A, col_n1))\n",
    "    \n",
    "    # add noise\n",
    "    A[:, n] = A[:, n] + eps*np.random.randn(1, m) \n",
    "    \n",
    "    return [cond_orig, np.linalg.cond(A)]\n"
   ]
  },
  {
   "cell_type": "code",
   "execution_count": 136,
   "metadata": {
    "scrolled": false
   },
   "outputs": [
    {
     "name": "stdout",
     "output_type": "stream",
     "text": [
      "random 40x10 matrix: \n",
      "\n",
      "epsilon = 1e-16:\n",
      "    3.0 --> 2.357264116095457e+16\n",
      "epsilon = 1e-15:\n",
      "    2.1 --> 2382444035496050.5\n",
      "epsilon = 1e-14:\n",
      "    2.2 --> 310501428627776.1\n",
      "epsilon = 1e-13:\n",
      "    2.7 --> 22712618682356.3\n",
      "epsilon = 1e-12:\n",
      "    2.5 --> 2912325716408.0\n",
      "epsilon = 1e-11:\n",
      "    2.4 --> 305172910193.1\n",
      "epsilon = 1e-10:\n",
      "    2.1 --> 19681641694.5\n",
      "epsilon = 1e-09:\n",
      "    2.6 --> 2321535725.7\n",
      "epsilon = 1e-08:\n",
      "    2.9 --> 281320782.3\n",
      "epsilon = 1e-07:\n",
      "    2.1 --> 27205622.5\n",
      "epsilon = 1e-06:\n",
      "    2.3 --> 2326703.3\n",
      "epsilon = 1e-05:\n",
      "    2.8 --> 300576.0\n",
      "epsilon = 0.0001:\n",
      "    2.4 --> 27928.5\n",
      "epsilon = 0.001:\n",
      "    2.6 --> 3207.9\n",
      "epsilon = 0.01:\n",
      "    2.1 --> 269.6\n",
      "epsilon = 0.1:\n",
      "    2.7 --> 22.9\n",
      "epsilon = 1.0:\n",
      "    2.3 --> 4.4\n"
     ]
    }
   ],
   "source": [
    "# look at some examples\n",
    "m = 40\n",
    "n = 10\n",
    "\n",
    "eps = [10**float(exp) for exp in np.arange(-16, 1)]\n",
    "\n",
    "print('random {m}x{n} matrix:'.format(m=m, n=n), '\\n')\n",
    "for i in range(len(eps)):\n",
    "    co, ca = cond_eps(m, n, eps[i])\n",
    "    print('epsilon = {e}:\\n    {co} --> {ca}'.format(e=eps[i],\n",
    "                                                     co=np.round(co, 1),\n",
    "                                                     ca=np.round(ca, 1)))\n"
   ]
  },
  {
   "cell_type": "code",
   "execution_count": 139,
   "metadata": {},
   "outputs": [
    {
     "data": {
      "image/png": "[encoded data removed]",
      "text/plain": [
       "<Figure size 432x288 with 1 Axes>"
      ]
     },
     "metadata": {
      "needs_background": "light"
     },
     "output_type": "display_data"
    }
   ],
   "source": [
    "# find condition numbers\n",
    "noisy_conds = [cond_eps(m, n, e)[1] for e in eps]\n",
    "\n",
    "# plot\n",
    "fig, ax = plt.subplots()\n",
    "\n",
    "ax.scatter(eps, noisy_conds)\n",
    "\n",
    "ax.set_yscale('log')\n",
    "ax.set_xscale('log')\n",
    "ax.set_xlim((5e-17, 5))\n",
    "ax.set_ylim((1, 1e17))\n",
    "\n",
    "ax.tick_params(axis='both', labelsize=fsize)\n",
    "ax.set_ylabel('Condition number', fontsize=fsize)\n",
    "ax.set_xlabel('Epsilon', fontsize=fsize)\n",
    "ax.set_title('Condition number as a function of epsilon\\nfor a random {m}x{n} matrix'.format(m=m, n=n),\n",
    "             fontsize=tsize-1)\n",
    "\n",
    "if SAVE_FIGS:\n",
    "    plt.savefig(save_dir + 'condn_func_of_eps.png', dpi=300, bbox_inches='tight')\n",
    "\n",
    "plt.show()\n"
   ]
  },
  {
   "cell_type": "code",
   "execution_count": null,
   "metadata": {},
   "outputs": [],
   "source": []
  },
  {
   "cell_type": "code",
   "execution_count": null,
   "metadata": {},
   "outputs": [],
   "source": []
  },
  {
   "cell_type": "code",
   "execution_count": null,
   "metadata": {},
   "outputs": [],
   "source": []
  },
  {
   "cell_type": "code",
   "execution_count": null,
   "metadata": {},
   "outputs": [],
   "source": []
  },
  {
   "cell_type": "code",
   "execution_count": null,
   "metadata": {},
   "outputs": [],
   "source": []
  },
  {
   "cell_type": "code",
   "execution_count": null,
   "metadata": {},
   "outputs": [],
   "source": []
  },
  {
   "cell_type": "markdown",
   "metadata": {},
   "source": [
    "# OLD"
   ]
  },
  {
   "cell_type": "code",
   "execution_count": null,
   "metadata": {},
   "outputs": [],
   "source": [
    "# quick test it with a random matrix\n",
    "\n",
    "A = np.random.randn(10, 4)\n",
    "print(A, '\\n')\n",
    "\n",
    "Qact, Ract = np.linalg.qr(A)\n",
    "print(Qact@Ract, '\\n')\n",
    "\n",
    "Q, R = gram_schmidt(A)\n",
    "print(Q@R, '\\n')\n",
    "\n",
    "print(np.linalg.norm((Q@R)-(Qact@Ract)))\n"
   ]
  },
  {
   "cell_type": "markdown",
   "metadata": {},
   "source": [
    "#### pythonize the other script"
   ]
  },
  {
   "cell_type": "code",
   "execution_count": null,
   "metadata": {},
   "outputs": [],
   "source": [
    "def qrfactor(A):\n",
    "    \"\"\"\n",
    "    Python version of the matlab script qrfactor.m\n",
    "    \n",
    "    Args:\n",
    "        A (numpy array), matrix A\n",
    "    \n",
    "    Returns:\n",
    "        Q, R (numpy arrays), matrices Q and R of the QR \n",
    "                             factorization of A\n",
    "    \"\"\"\n",
    "    m, n = A.shape\n",
    "    Q = np.identity(m)\n",
    "\n",
    "    for k in range(0, n):\n",
    "        \n",
    "        # find the HH reflector\n",
    "        z = np.reshape(A[k:m, k], (len(A[k:m]), 1))\n",
    "        v1 = np.zeros(z.shape)\n",
    "        v1[0] = -1*np.sign(z[0])*np.linalg.norm(z) - z[0]\n",
    "        v1[1:] = -1*z[1:]        \n",
    "\n",
    "        v = v1 / (np.sqrt(v1.T @ v1))\n",
    "        \n",
    "        # Apply the HH reflection to each column of A and Q\n",
    "        for j in range(0, n):\n",
    "            A[k:m, j] = A[k:m, j] - v @ ( 2*(v.T @ A[k:m, j]) )\n",
    "            \n",
    "        for j in range(0, m):\n",
    "            Q[k:m, j] = Q[k:m, j] - v @ ( 2*(v.T @ Q[k:m, j]) )\n",
    "            \n",
    "    Q = Q.T\n",
    "    R = np.triu(A)\n",
    "    \n",
    "    return [Q, R]\n"
   ]
  },
  {
   "cell_type": "markdown",
   "metadata": {},
   "source": [
    "##### TESTING:\n",
    "examples from https://www.geeksforgeeks.org/calculate-the-qr-decomposition-of-a-given-matrix-using-numpy/"
   ]
  },
  {
   "cell_type": "code",
   "execution_count": null,
   "metadata": {
    "scrolled": false
   },
   "outputs": [],
   "source": [
    "# square\n",
    "# Create a numpy array   \n",
    "arr = np.array([[5, 11, -15], [12, 34, -51],  \n",
    "                [-24, -43, 92]], dtype=np.int32)  \n",
    "\n",
    "# Find the QR factor of array  \n",
    "q, r = np.linalg.qr(arr)  \n",
    "print('\\nQ:\\n', q) \n",
    "print('\\nR:\\n', r) \n",
    "\n",
    "print('\\n\\n')\n",
    "\n",
    "# Create a numpy array   \n",
    "arr = np.array([[5, 11, -15], [12, 34, -51],  \n",
    "                [-24, -43, 92]], dtype=np.int32)\n",
    "\n",
    "# Find the QR factor of array  \n",
    "q, r = qrfactor(arr)  \n",
    "print('\\nQ:\\n', q) \n",
    "print('\\nR:\\n', r) \n"
   ]
  },
  {
   "cell_type": "code",
   "execution_count": null,
   "metadata": {},
   "outputs": [],
   "source": [
    "# tall & skinny\n",
    "\n",
    "# Original matrix \n",
    "matrix1 = np.array([[1, 2, 3], [3, 4, 5]]) \n",
    "print(matrix1.T)\n",
    "\n",
    "# Decomposition of the said matrix \n",
    "q, r = np.linalg.qr(matrix1.T) \n",
    "print('\\nQ:\\n', q) \n",
    "print('\\nR:\\n', r) \n",
    "\n",
    "print('\\n\\n')\n",
    "\n",
    "# Original matrix \n",
    "matrix1 = np.array([[1, 2, 3], [3, 4, 5]]) \n",
    "print(matrix1.T)\n",
    "\n",
    "# Decomposition of the said matrix \n",
    "q, r = qrfactor(matrix1.T) \n",
    "print('\\nQ:\\n', q) \n",
    "print('\\nR:\\n', r) \n"
   ]
  },
  {
   "cell_type": "code",
   "execution_count": null,
   "metadata": {},
   "outputs": [],
   "source": [
    "    else:\n",
    "        for i in range(m-n):\n",
    "            A = np.hstack((A, col_n1))"
   ]
  },
  {
   "cell_type": "code",
   "execution_count": 110,
   "metadata": {},
   "outputs": [
    {
     "data": {
      "image/png": "[encoded data removed]",
      "text/plain": [
       "<Figure size 432x288 with 1 Axes>"
      ]
     },
     "metadata": {
      "needs_background": "light"
     },
     "output_type": "display_data"
    }
   ],
   "source": [
    "# try it for a large range\n",
    "ms = np.arange(2, 101)\n",
    "new_As = [det_cond(m, (m-1), print_results=False) for m in ms]\n",
    "\n",
    "# plot\n",
    "plt.scatter(ms, [np.linalg.det(a) for a in new_As], s=10, color='C2', label='Determinant')\n",
    "plt.plot([np.linalg.cond(a) for a in new_As], label='Condition Number')\n",
    "plt.plot(ms, np.ones(np.shape(ms))*1e16, color='grey', linestyle=':', label='1e16')\n",
    "plt.plot(ms, np.ones(np.shape(ms)), color='k', linestyle='--')\n",
    "\n",
    "plt.legend(loc='upper left')\n",
    "plt.yscale('log')\n",
    "plt.ylim(1e-20, 1e61)\n",
    "plt.xlim((0, ms[-1]))\n",
    "\n",
    "plt.xlabel('m', fontsize=13)\n",
    "plt.title('det and cond of random mx(m-1) matrix\\nwith first column appended to end',\n",
    "          fontsize=14)\n",
    "\n",
    "if SAVE_FIGS:\n",
    "    plt.savefig(save_dir + 'det_cond_appended_cols.png', dpi=300, bbox_inches='tight')\n",
    "\n",
    "plt.show()\n"
   ]
  },
  {
   "cell_type": "code",
   "execution_count": null,
   "metadata": {},
   "outputs": [],
   "source": []
  },
  {
   "cell_type": "code",
   "execution_count": null,
   "metadata": {},
   "outputs": [],
   "source": []
  },
  {
   "cell_type": "code",
   "execution_count": null,
   "metadata": {},
   "outputs": [],
   "source": []
  },
  {
   "cell_type": "code",
   "execution_count": null,
   "metadata": {},
   "outputs": [],
   "source": [
    "        # python equiv. of A / b is np.dot(A, np.linalg.pinv(b))\n",
    "#         v = np.dot(v1, np.linalg.pinv(np.sqrt(v1.T @ v1)))"
   ]
  },
  {
   "cell_type": "code",
   "execution_count": null,
   "metadata": {},
   "outputs": [],
   "source": []
  },
  {
   "cell_type": "code",
   "execution_count": null,
   "metadata": {},
   "outputs": [],
   "source": []
  }
 ],
 "metadata": {
  "kernelspec": {
   "display_name": "amath",
   "language": "python",
   "name": "amath"
  },
  "language_info": {
   "codemirror_mode": {
    "name": "ipython",
    "version": 3
   },
   "file_extension": ".py",
   "mimetype": "text/x-python",
   "name": "python",
   "nbconvert_exporter": "python",
   "pygments_lexer": "ipython3",
   "version": "3.8.3"
  }
 },
 "nbformat": 4,
 "nbformat_minor": 2
}
